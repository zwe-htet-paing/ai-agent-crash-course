{
 "cells": [
  {
   "cell_type": "markdown",
   "id": "89b0212b",
   "metadata": {},
   "source": [
    "# Day 3: Add Search\n",
    "\n",
    "https://docs.google.com/document/d/1aieUiF2oN8q3FCvAV7KEyC9HoPFxFIAHvUEnhALz8Og/edit?tab=t.0"
   ]
  },
  {
   "cell_type": "markdown",
   "id": "3071e685",
   "metadata": {},
   "source": [
    "#### 1. Text search"
   ]
  },
  {
   "cell_type": "code",
   "execution_count": 22,
   "id": "f303f9fe",
   "metadata": {},
   "outputs": [],
   "source": [
    "from utils.ingest import read_repo_data\n",
    "from utils.chunk import  sliding_window\n",
    "from pprint import pprint"
   ]
  },
  {
   "cell_type": "code",
   "execution_count": 2,
   "id": "83e80e65",
   "metadata": {},
   "outputs": [],
   "source": [
    "evidently_docs = read_repo_data('evidentlyai', 'docs')\n",
    "\n",
    "evidently_chunks = []\n",
    "\n",
    "for doc in evidently_docs:\n",
    "    doc_copy = doc.copy()\n",
    "    doc_content = doc_copy.pop('content')\n",
    "    chunks = sliding_window(doc_content, 2000, 1000)\n",
    "    for chunk in chunks:\n",
    "        chunk.update(doc_copy)\n",
    "    evidently_chunks.extend(chunks)"
   ]
  },
  {
   "cell_type": "markdown",
   "id": "42e77de8",
   "metadata": {},
   "source": [
    "Simple in-memory text search \n",
    "\n",
    "- [minisearch](https://github.com/alexeygrigorev/minsearch)"
   ]
  },
  {
   "cell_type": "code",
   "execution_count": 3,
   "id": "38e2caeb",
   "metadata": {},
   "outputs": [
    {
     "data": {
      "text/plain": [
       "<minsearch.minsearch.Index at 0x76c6cf48bf80>"
      ]
     },
     "execution_count": 3,
     "metadata": {},
     "output_type": "execute_result"
    }
   ],
   "source": [
    "from minsearch import Index\n",
    "\n",
    "index = Index(\n",
    "    text_fields=[\"chunk\", \"title\", \"description\", \"filename\"],\n",
    "    keyword_fields=[]\n",
    ")\n",
    "\n",
    "index.fit(evidently_chunks)"
   ]
  },
  {
   "cell_type": "code",
   "execution_count": 4,
   "id": "d33a47c9",
   "metadata": {},
   "outputs": [],
   "source": [
    "query = 'What should be in a test dataset for AI evaluation?'\n",
    "results = index.search(query)"
   ]
  },
  {
   "cell_type": "code",
   "execution_count": 23,
   "id": "483a7739",
   "metadata": {},
   "outputs": [
    {
     "name": "stdout",
     "output_type": "stream",
     "text": [
      "[{'content': \"Yes, even if you don't register, you're still eligible to submit \"\n",
      "             'the homework.\\n'\n",
      "             '\\n'\n",
      "             'Be aware, however, that there will be deadlines for turning in '\n",
      "             \"homeworks and the final projects. So don't leave everything for \"\n",
      "             'the last minute.',\n",
      "  'filename': 'faq-main/_questions/data-engineering-zoomcamp/general/003_3f1424af17_course-can-i-still-join-the-course-after-the-start.md',\n",
      "  'id': '3f1424af17',\n",
      "  'question': 'Course: Can I still join the course after the start date?',\n",
      "  'sort_order': 3},\n",
      " {'content': 'Yes, we will keep all the materials available, so you can follow '\n",
      "             'the course at your own pace after it finishes.\\n'\n",
      "             '\\n'\n",
      "             'You can also continue reviewing the homeworks and prepare for '\n",
      "             'the next cohort. You can also start working on your final '\n",
      "             'capstone project.',\n",
      "  'filename': 'faq-main/_questions/data-engineering-zoomcamp/general/008_068529125b_course-can-i-follow-the-course-after-it-finishes.md',\n",
      "  'id': '068529125b',\n",
      "  'question': 'Course - Can I follow the course after it finishes?',\n",
      "  'sort_order': 8},\n",
      " {'content': 'The next cohort starts January 13th, 2025. More info at '\n",
      "             '[DTC](https://datatalks.club/blog/guide-to-free-online-courses-at-datatalks-club.html).\\n'\n",
      "             '\\n'\n",
      "             '- Register before the course starts using this '\n",
      "             '[link](https://airtable.com/shr6oVXeQvSI5HuWD).\\n'\n",
      "             '- Join the [course Telegram channel with '\n",
      "             'announcements](https://t.me/dezoomcamp).\\n'\n",
      "             \"- Don’t forget to register in DataTalks.Club's Slack and join \"\n",
      "             'the channel.',\n",
      "  'filename': 'faq-main/_questions/data-engineering-zoomcamp/general/001_9e508f2212_course-when-does-the-course-start.md',\n",
      "  'id': '9e508f2212',\n",
      "  'question': 'Course: When does the course start?',\n",
      "  'sort_order': 1}]\n"
     ]
    }
   ],
   "source": [
    "pprint(results[:3])"
   ]
  },
  {
   "cell_type": "code",
   "execution_count": null,
   "id": "03a95b39",
   "metadata": {},
   "outputs": [],
   "source": []
  },
  {
   "cell_type": "code",
   "execution_count": 6,
   "id": "da94d9f2",
   "metadata": {},
   "outputs": [
    {
     "data": {
      "text/plain": [
       "<minsearch.minsearch.Index at 0x76c6cf6ee0f0>"
      ]
     },
     "execution_count": 6,
     "metadata": {},
     "output_type": "execute_result"
    }
   ],
   "source": [
    "# For DataTalksClub FAQ, it's similar, except we don't need to chunk the data.\n",
    "dtc_faq = read_repo_data('DataTalksClub', 'faq')\n",
    "\n",
    "de_dtc_faq = [d for d in dtc_faq if 'data-engineering' in d['filename']]\n",
    "\n",
    "faq_index = Index(\n",
    "    text_fields=[\"question\", \"content\"],\n",
    "    keyword_fields=[]\n",
    ")\n",
    "\n",
    "faq_index.fit(de_dtc_faq)"
   ]
  },
  {
   "cell_type": "code",
   "execution_count": 24,
   "id": "d69e2259",
   "metadata": {},
   "outputs": [
    {
     "name": "stdout",
     "output_type": "stream",
     "text": [
      "[{'content': \"Yes, even if you don't register, you're still eligible to submit \"\n",
      "             'the homework.\\n'\n",
      "             '\\n'\n",
      "             'Be aware, however, that there will be deadlines for turning in '\n",
      "             \"homeworks and the final projects. So don't leave everything for \"\n",
      "             'the last minute.',\n",
      "  'filename': 'faq-main/_questions/data-engineering-zoomcamp/general/003_3f1424af17_course-can-i-still-join-the-course-after-the-start.md',\n",
      "  'id': '3f1424af17',\n",
      "  'question': 'Course: Can I still join the course after the start date?',\n",
      "  'sort_order': 3},\n",
      " {'content': 'The next cohort starts January 13th, 2025. More info at '\n",
      "             '[DTC](https://datatalks.club/blog/guide-to-free-online-courses-at-datatalks-club.html).\\n'\n",
      "             '\\n'\n",
      "             '- Register before the course starts using this '\n",
      "             '[link](https://airtable.com/shr6oVXeQvSI5HuWD).\\n'\n",
      "             '- Join the [course Telegram channel with '\n",
      "             'announcements](https://t.me/dezoomcamp).\\n'\n",
      "             \"- Don’t forget to register in DataTalks.Club's Slack and join \"\n",
      "             'the channel.',\n",
      "  'filename': 'faq-main/_questions/data-engineering-zoomcamp/general/001_9e508f2212_course-when-does-the-course-start.md',\n",
      "  'id': '9e508f2212',\n",
      "  'question': 'Course: When does the course start?',\n",
      "  'sort_order': 1},\n",
      " {'content': 'Yes, we will keep all the materials available, so you can follow '\n",
      "             'the course at your own pace after it finishes.\\n'\n",
      "             '\\n'\n",
      "             'You can also continue reviewing the homeworks and prepare for '\n",
      "             'the next cohort. You can also start working on your final '\n",
      "             'capstone project.',\n",
      "  'filename': 'faq-main/_questions/data-engineering-zoomcamp/general/008_068529125b_course-can-i-follow-the-course-after-it-finishes.md',\n",
      "  'id': '068529125b',\n",
      "  'question': 'Course - Can I follow the course after it finishes?',\n",
      "  'sort_order': 8}]\n"
     ]
    }
   ],
   "source": [
    "results = faq_index.search(query)\n",
    "pprint(results[:3])"
   ]
  },
  {
   "cell_type": "code",
   "execution_count": null,
   "id": "1e124a01",
   "metadata": {},
   "outputs": [],
   "source": []
  },
  {
   "cell_type": "markdown",
   "id": "7c49d5de",
   "metadata": {},
   "source": [
    "### 2. Vector search\n",
    "\n",
    "For vector search, we need to turn our documents into vectors (embeddings).\n",
    "\n",
    "- [sentence-transformers](https://www.sbert.net/docs/sentence_transformer/pretrained_models.html)"
   ]
  },
  {
   "cell_type": "code",
   "execution_count": 8,
   "id": "eb5db99f",
   "metadata": {},
   "outputs": [],
   "source": [
    "from sentence_transformers import SentenceTransformer\n",
    "embedding_model = SentenceTransformer('multi-qa-distilbert-cos-v1')"
   ]
  },
  {
   "cell_type": "markdown",
   "id": "138340ac",
   "metadata": {},
   "source": [
    "The `multi-qa-distilbert-cos-v1` model is trained explicitly for question-answering tasks. It creates embeddings optimized for finding answers to questions.\n",
    "\n",
    "Other popular models include:\n",
    "- `all-MiniLM-L6-v2` - General-purpose, fast, and efficient\n",
    "- `all-mpnet-base-v2` - Higher quality, slower"
   ]
  },
  {
   "cell_type": "code",
   "execution_count": 9,
   "id": "076195f3",
   "metadata": {},
   "outputs": [
    {
     "name": "stdout",
     "output_type": "stream",
     "text": [
      "{'content': \"Yes, even if you don't register, you're still eligible to submit \"\n",
      "            'the homework.\\n'\n",
      "            '\\n'\n",
      "            'Be aware, however, that there will be deadlines for turning in '\n",
      "            \"homeworks and the final projects. So don't leave everything for \"\n",
      "            'the last minute.',\n",
      " 'filename': 'faq-main/_questions/data-engineering-zoomcamp/general/003_3f1424af17_course-can-i-still-join-the-course-after-the-start.md',\n",
      " 'id': '3f1424af17',\n",
      " 'question': 'Course: Can I still join the course after the start date?',\n",
      " 'sort_order': 3}\n"
     ]
    }
   ],
   "source": [
    "record = de_dtc_faq[2]\n",
    "pprint(record)"
   ]
  },
  {
   "cell_type": "code",
   "execution_count": 10,
   "id": "93a1d957",
   "metadata": {},
   "outputs": [],
   "source": [
    "text = record['question'] + ' ' + record['content']\n",
    "v_doc = embedding_model.encode(text)"
   ]
  },
  {
   "cell_type": "code",
   "execution_count": 11,
   "id": "79c6f97b",
   "metadata": {},
   "outputs": [
    {
     "data": {
      "text/plain": [
       "array([ 0.06053618, -0.07152255,  0.03627984, -0.02451891,  0.05339969,\n",
       "       -0.03946254, -0.01561872,  0.02626443, -0.02312284, -0.00011206],\n",
       "      dtype=float32)"
      ]
     },
     "execution_count": 11,
     "metadata": {},
     "output_type": "execute_result"
    }
   ],
   "source": [
    "v_doc[:10]"
   ]
  },
  {
   "cell_type": "code",
   "execution_count": 12,
   "id": "91354e75",
   "metadata": {},
   "outputs": [],
   "source": [
    "query = 'I just found out about the course. Can I enroll now?'\n",
    "v_query = embedding_model.encode(query)"
   ]
  },
  {
   "cell_type": "code",
   "execution_count": 13,
   "id": "c9f5015e",
   "metadata": {},
   "outputs": [
    {
     "name": "stdout",
     "output_type": "stream",
     "text": [
      "Similarity: 0.5190934\n"
     ]
    }
   ],
   "source": [
    "similarity = v_query.dot(v_doc)\n",
    "print(\"Similarity:\", similarity)"
   ]
  },
  {
   "cell_type": "code",
   "execution_count": 14,
   "id": "272c3d55",
   "metadata": {},
   "outputs": [
    {
     "data": {
      "application/vnd.jupyter.widget-view+json": {
       "model_id": "8c3d8efb009040d690d5573f1d56aba3",
       "version_major": 2,
       "version_minor": 0
      },
      "text/plain": [
       "  0%|          | 0/449 [00:00<?, ?it/s]"
      ]
     },
     "metadata": {},
     "output_type": "display_data"
    }
   ],
   "source": [
    "from tqdm.auto import tqdm\n",
    "import numpy as np\n",
    "\n",
    "faq_embeddings = []\n",
    "\n",
    "for d in tqdm(de_dtc_faq):\n",
    "    text = d['question'] + ' ' + d['content']\n",
    "    v = embedding_model.encode(text)\n",
    "    faq_embeddings.append(v)\n",
    "\n",
    "# convert the list to a NumPy array for efficient similarity computations.\n",
    "faq_embeddings = np.array(faq_embeddings)"
   ]
  },
  {
   "cell_type": "code",
   "execution_count": 15,
   "id": "6b1ff9f4",
   "metadata": {},
   "outputs": [
    {
     "data": {
      "text/plain": [
       "<minsearch.vector.VectorSearch at 0x76c5bf6b5b20>"
      ]
     },
     "execution_count": 15,
     "metadata": {},
     "output_type": "execute_result"
    }
   ],
   "source": [
    "from minsearch import VectorSearch\n",
    "\n",
    "faq_vindex = VectorSearch()\n",
    "faq_vindex.fit(faq_embeddings, de_dtc_faq)"
   ]
  },
  {
   "cell_type": "code",
   "execution_count": 16,
   "id": "577fdaae",
   "metadata": {},
   "outputs": [],
   "source": [
    "query = 'Can I join the course now?'\n",
    "q = embedding_model.encode(query)\n",
    "results = faq_vindex.search(q)"
   ]
  },
  {
   "cell_type": "code",
   "execution_count": 17,
   "id": "db25dfd3",
   "metadata": {},
   "outputs": [
    {
     "name": "stdout",
     "output_type": "stream",
     "text": [
      "[{'content': \"Yes, even if you don't register, you're still eligible to submit \"\n",
      "             'the homework.\\n'\n",
      "             '\\n'\n",
      "             'Be aware, however, that there will be deadlines for turning in '\n",
      "             \"homeworks and the final projects. So don't leave everything for \"\n",
      "             'the last minute.',\n",
      "  'filename': 'faq-main/_questions/data-engineering-zoomcamp/general/003_3f1424af17_course-can-i-still-join-the-course-after-the-start.md',\n",
      "  'id': '3f1424af17',\n",
      "  'question': 'Course: Can I still join the course after the start date?',\n",
      "  'sort_order': 3},\n",
      " {'content': 'Yes, we will keep all the materials available, so you can follow '\n",
      "             'the course at your own pace after it finishes.\\n'\n",
      "             '\\n'\n",
      "             'You can also continue reviewing the homeworks and prepare for '\n",
      "             'the next cohort. You can also start working on your final '\n",
      "             'capstone project.',\n",
      "  'filename': 'faq-main/_questions/data-engineering-zoomcamp/general/008_068529125b_course-can-i-follow-the-course-after-it-finishes.md',\n",
      "  'id': '068529125b',\n",
      "  'question': 'Course - Can I follow the course after it finishes?',\n",
      "  'sort_order': 8},\n",
      " {'content': 'The next cohort starts January 13th, 2025. More info at '\n",
      "             '[DTC](https://datatalks.club/blog/guide-to-free-online-courses-at-datatalks-club.html).\\n'\n",
      "             '\\n'\n",
      "             '- Register before the course starts using this '\n",
      "             '[link](https://airtable.com/shr6oVXeQvSI5HuWD).\\n'\n",
      "             '- Join the [course Telegram channel with '\n",
      "             'announcements](https://t.me/dezoomcamp).\\n'\n",
      "             \"- Don’t forget to register in DataTalks.Club's Slack and join \"\n",
      "             'the channel.',\n",
      "  'filename': 'faq-main/_questions/data-engineering-zoomcamp/general/001_9e508f2212_course-when-does-the-course-start.md',\n",
      "  'id': '9e508f2212',\n",
      "  'question': 'Course: When does the course start?',\n",
      "  'sort_order': 1}]\n"
     ]
    }
   ],
   "source": [
    "pprint(results[:3])"
   ]
  },
  {
   "cell_type": "code",
   "execution_count": null,
   "id": "c172a27d",
   "metadata": {},
   "outputs": [],
   "source": []
  },
  {
   "cell_type": "markdown",
   "id": "50950d5f",
   "metadata": {},
   "source": [
    "### 3. Hybrid search\n",
    "\n",
    "Text search is fast and efficient. Vector search captures semantic meaning and handles paraphrased questions. Combining both approaches gives us the best of both worlds. This is known as \"hybrid search.\"\n"
   ]
  },
  {
   "cell_type": "code",
   "execution_count": 18,
   "id": "5c68d862",
   "metadata": {},
   "outputs": [],
   "source": [
    "query = 'Can I join the course now?'\n",
    "\n",
    "text_results = faq_index.search(query, num_results=5)\n",
    "\n",
    "q = embedding_model.encode(query)\n",
    "vector_results = faq_vindex.search(q, num_results=5)\n",
    "\n",
    "final_results = text_results + vector_results"
   ]
  },
  {
   "cell_type": "code",
   "execution_count": 21,
   "id": "9680575b",
   "metadata": {},
   "outputs": [
    {
     "name": "stdout",
     "output_type": "stream",
     "text": [
      "[{'content': \"Yes, even if you don't register, you're still eligible to submit \"\n",
      "             'the homework.\\n'\n",
      "             '\\n'\n",
      "             'Be aware, however, that there will be deadlines for turning in '\n",
      "             \"homeworks and the final projects. So don't leave everything for \"\n",
      "             'the last minute.',\n",
      "  'filename': 'faq-main/_questions/data-engineering-zoomcamp/general/003_3f1424af17_course-can-i-still-join-the-course-after-the-start.md',\n",
      "  'id': '3f1424af17',\n",
      "  'question': 'Course: Can I still join the course after the start date?',\n",
      "  'sort_order': 3},\n",
      " {'content': 'The next cohort starts January 13th, 2025. More info at '\n",
      "             '[DTC](https://datatalks.club/blog/guide-to-free-online-courses-at-datatalks-club.html).\\n'\n",
      "             '\\n'\n",
      "             '- Register before the course starts using this '\n",
      "             '[link](https://airtable.com/shr6oVXeQvSI5HuWD).\\n'\n",
      "             '- Join the [course Telegram channel with '\n",
      "             'announcements](https://t.me/dezoomcamp).\\n'\n",
      "             \"- Don’t forget to register in DataTalks.Club's Slack and join \"\n",
      "             'the channel.',\n",
      "  'filename': 'faq-main/_questions/data-engineering-zoomcamp/general/001_9e508f2212_course-when-does-the-course-start.md',\n",
      "  'id': '9e508f2212',\n",
      "  'question': 'Course: When does the course start?',\n",
      "  'sort_order': 1},\n",
      " {'content': 'Yes, we will keep all the materials available, so you can follow '\n",
      "             'the course at your own pace after it finishes.\\n'\n",
      "             '\\n'\n",
      "             'You can also continue reviewing the homeworks and prepare for '\n",
      "             'the next cohort. You can also start working on your final '\n",
      "             'capstone project.',\n",
      "  'filename': 'faq-main/_questions/data-engineering-zoomcamp/general/008_068529125b_course-can-i-follow-the-course-after-it-finishes.md',\n",
      "  'id': '068529125b',\n",
      "  'question': 'Course - Can I follow the course after it finishes?',\n",
      "  'sort_order': 8}]\n"
     ]
    }
   ],
   "source": [
    "pprint(final_results[:3])"
   ]
  },
  {
   "cell_type": "code",
   "execution_count": null,
   "id": "4556bee0",
   "metadata": {},
   "outputs": [],
   "source": []
  },
  {
   "cell_type": "markdown",
   "id": "e7d0b8e9",
   "metadata": {},
   "source": [
    "### 4. Putting this together"
   ]
  },
  {
   "cell_type": "code",
   "execution_count": 26,
   "id": "ae9f1ff9",
   "metadata": {},
   "outputs": [],
   "source": [
    "def text_search(query):\n",
    "    return faq_index.search(query, num_results=5)\n",
    "\n",
    "def vector_search(query):\n",
    "    q = embedding_model.encode(query)\n",
    "    return faq_vindex.search(q, num_results=5)\n",
    "\n",
    "def hybrid_search(query):\n",
    "    text_results = text_search(query)\n",
    "    vector_results = vector_search(query)\n",
    "    \n",
    "    # Combine and deduplicate results\n",
    "    seen_ids = set()\n",
    "    combined_results = []\n",
    "\n",
    "    for result in text_results + vector_results:\n",
    "        if result['filename'] not in seen_ids:\n",
    "            seen_ids.add(result['filename'])\n",
    "            combined_results.append(result)\n",
    "    \n",
    "    return combined_results"
   ]
  },
  {
   "cell_type": "code",
   "execution_count": 27,
   "id": "fa42ae31",
   "metadata": {},
   "outputs": [],
   "source": [
    "query = 'Can I join the course now?'"
   ]
  },
  {
   "cell_type": "code",
   "execution_count": 35,
   "id": "237e0ccb",
   "metadata": {},
   "outputs": [
    {
     "name": "stdout",
     "output_type": "stream",
     "text": [
      "Question: Can I join the course now?\n",
      "********************************************************************************\n",
      "Filename: faq-main/_questions/data-engineering-zoomcamp/general/003_3f1424af17_course-can-i-still-join-the-course-after-the-start.md\n",
      "Content: Yes, even if you don't register, you're still eligible to submit the homework.\n",
      "\n",
      "Be aware, however, that there will be deadlines for turning in homeworks and the final projects. So don't leave everythi...\n",
      "********************************************************************************\n",
      "Filename: faq-main/_questions/data-engineering-zoomcamp/general/001_9e508f2212_course-when-does-the-course-start.md\n",
      "Content: The next cohort starts January 13th, 2025. More info at [DTC](https://datatalks.club/blog/guide-to-free-online-courses-at-datatalks-club.html).\n",
      "\n",
      "- Register before the course starts using this [link](h...\n",
      "********************************************************************************\n",
      "Filename: faq-main/_questions/data-engineering-zoomcamp/general/008_068529125b_course-can-i-follow-the-course-after-it-finishes.md\n",
      "Content: Yes, we will keep all the materials available, so you can follow the course at your own pace after it finishes.\n",
      "\n",
      "You can also continue reviewing the homeworks and prepare for the next cohort. You can ...\n",
      "********************************************************************************\n",
      "Filename: faq-main/_questions/data-engineering-zoomcamp/general/005_33fc260cd8_course-what-can-i-do-before-the-course-starts.md\n",
      "Content: Start by installing and setting up all the dependencies and requirements:\n",
      "\n",
      "- Google Cloud account\n",
      "- Google Cloud SDK\n",
      "- Python 3 (installed with Anaconda)\n",
      "- Terraform\n",
      "- Git\n",
      "\n",
      "Look over the prerequisites...\n",
      "********************************************************************************\n",
      "Filename: faq-main/_questions/data-engineering-zoomcamp/general/009_c207b8614e_course-can-i-get-support-if-i-take-the-course-in-t.md\n",
      "Content: Yes, the Slack channel remains open and you can ask questions there. However, always search the channel first and check the FAQ, as most likely your questions are already answered here.\n",
      "\n",
      "You can also ...\n"
     ]
    }
   ],
   "source": [
    "# Using text search\n",
    "results = text_search(query)\n",
    "\n",
    "print(\"Question:\", query)\n",
    "for result in results:\n",
    "    print(\"*\" * 80)\n",
    "    print(f\"Filename: {result['filename']}\")\n",
    "    print(f\"Content: {result['content'][:200]}...\")"
   ]
  },
  {
   "cell_type": "code",
   "execution_count": 36,
   "id": "0bad3c14",
   "metadata": {},
   "outputs": [
    {
     "name": "stdout",
     "output_type": "stream",
     "text": [
      "Question: Can I join the course now?\n",
      "********************************************************************************\n",
      "Filename: faq-main/_questions/data-engineering-zoomcamp/general/003_3f1424af17_course-can-i-still-join-the-course-after-the-start.md\n",
      "Content: Yes, even if you don't register, you're still eligible to submit the homework.\n",
      "\n",
      "Be aware, however, that there will be deadlines for turning in homeworks and the final projects. So don't leave everythi...\n",
      "********************************************************************************\n",
      "Filename: faq-main/_questions/data-engineering-zoomcamp/general/008_068529125b_course-can-i-follow-the-course-after-it-finishes.md\n",
      "Content: Yes, we will keep all the materials available, so you can follow the course at your own pace after it finishes.\n",
      "\n",
      "You can also continue reviewing the homeworks and prepare for the next cohort. You can ...\n",
      "********************************************************************************\n",
      "Filename: faq-main/_questions/data-engineering-zoomcamp/general/001_9e508f2212_course-when-does-the-course-start.md\n",
      "Content: The next cohort starts January 13th, 2025. More info at [DTC](https://datatalks.club/blog/guide-to-free-online-courses-at-datatalks-club.html).\n",
      "\n",
      "- Register before the course starts using this [link](h...\n",
      "********************************************************************************\n",
      "Filename: faq-main/_questions/data-engineering-zoomcamp/general/009_c207b8614e_course-can-i-get-support-if-i-take-the-course-in-t.md\n",
      "Content: Yes, the Slack channel remains open and you can ask questions there. However, always search the channel first and check the FAQ, as most likely your questions are already answered here.\n",
      "\n",
      "You can also ...\n",
      "********************************************************************************\n",
      "Filename: faq-main/_questions/data-engineering-zoomcamp/general/015_900f60fd25_certificate-can-i-follow-the-course-in-a-self-pace.md\n",
      "Content: No, you can only get a certificate if you finish the course with a “live” cohort. We don't award certificates for the self-paced mode. The reason is you need to peer-review capstone(s) after submittin...\n"
     ]
    }
   ],
   "source": [
    "# Using vector search\n",
    "results = vector_search(query)\n",
    "\n",
    "print(\"Question:\", query)\n",
    "for result in results:\n",
    "    print(\"*\" * 80)\n",
    "    print(f\"Filename: {result['filename']}\")\n",
    "    print(f\"Content: {result['content'][:200]}...\")"
   ]
  },
  {
   "cell_type": "code",
   "execution_count": 37,
   "id": "9c61580b",
   "metadata": {},
   "outputs": [
    {
     "name": "stdout",
     "output_type": "stream",
     "text": [
      "Question: Can I join the course now?\n",
      "********************************************************************************\n",
      "Filename: faq-main/_questions/data-engineering-zoomcamp/general/003_3f1424af17_course-can-i-still-join-the-course-after-the-start.md\n",
      "Content: Yes, even if you don't register, you're still eligible to submit the homework.\n",
      "\n",
      "Be aware, however, that there will be deadlines for turning in homeworks and the final projects. So don't leave everythi...\n",
      "********************************************************************************\n",
      "Filename: faq-main/_questions/data-engineering-zoomcamp/general/001_9e508f2212_course-when-does-the-course-start.md\n",
      "Content: The next cohort starts January 13th, 2025. More info at [DTC](https://datatalks.club/blog/guide-to-free-online-courses-at-datatalks-club.html).\n",
      "\n",
      "- Register before the course starts using this [link](h...\n",
      "********************************************************************************\n",
      "Filename: faq-main/_questions/data-engineering-zoomcamp/general/008_068529125b_course-can-i-follow-the-course-after-it-finishes.md\n",
      "Content: Yes, we will keep all the materials available, so you can follow the course at your own pace after it finishes.\n",
      "\n",
      "You can also continue reviewing the homeworks and prepare for the next cohort. You can ...\n",
      "********************************************************************************\n",
      "Filename: faq-main/_questions/data-engineering-zoomcamp/general/005_33fc260cd8_course-what-can-i-do-before-the-course-starts.md\n",
      "Content: Start by installing and setting up all the dependencies and requirements:\n",
      "\n",
      "- Google Cloud account\n",
      "- Google Cloud SDK\n",
      "- Python 3 (installed with Anaconda)\n",
      "- Terraform\n",
      "- Git\n",
      "\n",
      "Look over the prerequisites...\n",
      "********************************************************************************\n",
      "Filename: faq-main/_questions/data-engineering-zoomcamp/general/009_c207b8614e_course-can-i-get-support-if-i-take-the-course-in-t.md\n",
      "Content: Yes, the Slack channel remains open and you can ask questions there. However, always search the channel first and check the FAQ, as most likely your questions are already answered here.\n",
      "\n",
      "You can also ...\n",
      "********************************************************************************\n",
      "Filename: faq-main/_questions/data-engineering-zoomcamp/general/015_900f60fd25_certificate-can-i-follow-the-course-in-a-self-pace.md\n",
      "Content: No, you can only get a certificate if you finish the course with a “live” cohort. We don't award certificates for the self-paced mode. The reason is you need to peer-review capstone(s) after submittin...\n"
     ]
    }
   ],
   "source": [
    "# Using hybrid search\n",
    "results = hybrid_search(query)\n",
    "\n",
    "print(\"Question:\", query)\n",
    "for result in results:\n",
    "    print(\"*\" * 80)\n",
    "    print(f\"Filename: {result['filename']}\")\n",
    "    print(f\"Content: {result['content'][:200]}...\")"
   ]
  },
  {
   "cell_type": "code",
   "execution_count": null,
   "id": "871b2b30",
   "metadata": {},
   "outputs": [],
   "source": []
  }
 ],
 "metadata": {
  "kernelspec": {
   "display_name": "ai-agent-crash-course",
   "language": "python",
   "name": "python3"
  },
  "language_info": {
   "codemirror_mode": {
    "name": "ipython",
    "version": 3
   },
   "file_extension": ".py",
   "mimetype": "text/x-python",
   "name": "python",
   "nbconvert_exporter": "python",
   "pygments_lexer": "ipython3",
   "version": "3.12.6"
  }
 },
 "nbformat": 4,
 "nbformat_minor": 5
}
