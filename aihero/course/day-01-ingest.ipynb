{
 "cells": [
  {
   "cell_type": "markdown",
   "id": "531172ea",
   "metadata": {},
   "source": [
    "# Day 1: Ingest and Index Your Data\n",
    "- https://docs.google.com/document/d/1ssAeSDpxF-FG8fGsqvAQrTLalVk91f-p9O2nbXiio5U/edit?tab=t.0#heading=h.tjb2t5qu4ajr"
   ]
  },
  {
   "cell_type": "markdown",
   "id": "f9c53c3e",
   "metadata": {},
   "source": [
    "### Frontmatter\n",
    "\n",
    "A library for parsing frontmatter - a popular documentation format commonly used for modern frameworks like Jekyll, Hugo, and Next.js."
   ]
  },
  {
   "cell_type": "code",
   "execution_count": 1,
   "id": "a07c3bc0-0ed8-4ad8-a793-be1c914e6094",
   "metadata": {},
   "outputs": [
    {
     "name": "stdout",
     "output_type": "stream",
     "text": [
      "Title: Getting Started with AI\n",
      "Tags: ['ai', 'machine-learning', 'tutorial']\n",
      "Content: # Getting Started with AI\n",
      "\n",
      "This is the main content of the document written in **Markdown**.\n",
      "\n",
      "You can include code blocks, links, and other formatting here.\n"
     ]
    }
   ],
   "source": [
    "import frontmatter\n",
    "\n",
    "with open('example.md', 'r', encoding='utf-8') as f:\n",
    "    post = frontmatter.load(f)\n",
    "\n",
    "# Access metadata\n",
    "print(\"Title:\", post.metadata['title'])  # \"Getting Started with AI\"\n",
    "print(\"Tags:\", post.metadata['tags'])   # [\"ai\", \"machine-learning\", \"tutorial\"]\n",
    "\n",
    "# Access content\n",
    "print(\"Content:\", post.content)  # The markdown content without frontmatter"
   ]
  },
  {
   "cell_type": "code",
   "execution_count": null,
   "id": "0f628765-bd6c-4769-92a0-fe5b760a91a3",
   "metadata": {},
   "outputs": [],
   "source": []
  },
  {
   "cell_type": "markdown",
   "id": "8b4bbd0d",
   "metadata": {},
   "source": [
    "### Working with Zip Archives\n",
    "\n",
    "Load the zip archives into our Python process memory and extract all the data we need from there.\n",
    "\n",
    "So the plan:\n",
    "- Use requests for downloading the zip archive from GitHub\n",
    "- Open the archive using built-in zipfile and io modules\n",
    "- Iterate over all .md and .mdx files in the repo\n",
    "- Collect the results into a list\n",
    "\n"
   ]
  },
  {
   "cell_type": "code",
   "execution_count": 2,
   "id": "84471d87",
   "metadata": {},
   "outputs": [],
   "source": [
    "import io\n",
    "import zipfile\n",
    "import requests\n",
    "import frontmatter\n",
    "from pprint import pprint"
   ]
  },
  {
   "cell_type": "code",
   "execution_count": 7,
   "id": "5c29c0e9",
   "metadata": {},
   "outputs": [
    {
     "name": "stdout",
     "output_type": "stream",
     "text": [
      "200\n"
     ]
    }
   ],
   "source": [
    "# Download the zip file\n",
    "url = 'https://codeload.github.com/DataTalksClub/faq/zip/refs/heads/main'\n",
    "resp = requests.get(url)\n",
    "print(resp.status_code)"
   ]
  },
  {
   "cell_type": "code",
   "execution_count": 8,
   "id": "fa5bca48",
   "metadata": {},
   "outputs": [],
   "source": [
    "# Process the zip file in memory without saving it to disk\n",
    "repository_data = []\n",
    "\n",
    "# Create a ZipFile object from the downloaded content\n",
    "zf = zipfile.ZipFile(io.BytesIO(resp.content))\n",
    "\n",
    "for file_info in zf.infolist():\n",
    "    filename = file_info.filename.lower()\n",
    "\n",
    "    # Only process markdown files\n",
    "    if not filename.endswith('.md'):\n",
    "        continue\n",
    "\n",
    "    # Read and parse each file\n",
    "    with zf.open(file_info) as f_in:\n",
    "        content = f_in.read()\n",
    "        post = frontmatter.loads(content)\n",
    "        data = post.to_dict()\n",
    "        data['filename'] = filename\n",
    "        repository_data.append(data)\n",
    "\n",
    "zf.close()\n"
   ]
  },
  {
   "cell_type": "code",
   "execution_count": 11,
   "id": "2913a17c",
   "metadata": {},
   "outputs": [
    {
     "name": "stdout",
     "output_type": "stream",
     "text": [
      "{'content': 'The next cohort starts January 13th, 2025. More info at '\n",
      "            '[DTC](https://datatalks.club/blog/guide-to-free-online-courses-at-datatalks-club.html).\\n'\n",
      "            '\\n'\n",
      "            '- Register before the course starts using this '\n",
      "            '[link](https://airtable.com/shr6oVXeQvSI5HuWD).\\n'\n",
      "            '- Join the [course Telegram channel with '\n",
      "            'announcements](https://t.me/dezoomcamp).\\n'\n",
      "            \"- Don’t forget to register in DataTalks.Club's Slack and join the \"\n",
      "            'channel.',\n",
      " 'filename': 'faq-main/_questions/data-engineering-zoomcamp/general/001_9e508f2212_course-when-does-the-course-start.md',\n",
      " 'id': '9e508f2212',\n",
      " 'question': 'Course: When does the course start?',\n",
      " 'sort_order': 1}\n"
     ]
    }
   ],
   "source": [
    "pprint(repository_data[1])"
   ]
  },
  {
   "cell_type": "code",
   "execution_count": 3,
   "id": "a11950d6",
   "metadata": {},
   "outputs": [],
   "source": [
    "import io\n",
    "import zipfile\n",
    "import requests\n",
    "import frontmatter\n",
    "\n",
    "def read_repo_data(repo_owner, repo_name):\n",
    "    \"\"\"\n",
    "    Download and parse all markdown files from a GitHub repository.\n",
    "    \n",
    "    Args:\n",
    "        repo_owner: GitHub username or organization\n",
    "        repo_name: Repository name\n",
    "    \n",
    "    Returns:\n",
    "        List of dictionaries containing file content and metadata\n",
    "    \"\"\"\n",
    "    prefix = 'https://codeload.github.com' \n",
    "    url = f'{prefix}/{repo_owner}/{repo_name}/zip/refs/heads/main'\n",
    "    resp = requests.get(url)\n",
    "    \n",
    "    if resp.status_code != 200:\n",
    "        raise Exception(f\"Failed to download repository: {resp.status_code}\")\n",
    "\n",
    "    repository_data = []\n",
    "    zf = zipfile.ZipFile(io.BytesIO(resp.content))\n",
    "    \n",
    "    for file_info in zf.infolist():\n",
    "        filename = file_info.filename\n",
    "        filename_lower = filename.lower()\n",
    "\n",
    "        if not (filename_lower.endswith('.md') \n",
    "            or filename_lower.endswith('.mdx')):\n",
    "            continue\n",
    "    \n",
    "        try:\n",
    "            with zf.open(file_info) as f_in:\n",
    "                content = f_in.read().decode('utf-8', errors='ignore')\n",
    "                post = frontmatter.loads(content)\n",
    "                data = post.to_dict()\n",
    "                data['filename'] = filename\n",
    "                repository_data.append(data)\n",
    "        except Exception as e:\n",
    "            print(f\"Error processing {filename}: {e}\")\n",
    "            continue\n",
    "    \n",
    "    zf.close()\n",
    "    return repository_data\n"
   ]
  },
  {
   "cell_type": "code",
   "execution_count": 12,
   "id": "cdb2dbb9",
   "metadata": {},
   "outputs": [
    {
     "name": "stdout",
     "output_type": "stream",
     "text": [
      "FAQ documents: 1219\n",
      "Evidently documents: 95\n"
     ]
    }
   ],
   "source": [
    "dtc_faq = read_repo_data('DataTalksClub', 'faq')\n",
    "evidently_docs = read_repo_data('evidentlyai', 'docs')\n",
    "\n",
    "print(f\"FAQ documents: {len(dtc_faq)}\")\n",
    "print(f\"Evidently documents: {len(evidently_docs)}\")"
   ]
  },
  {
   "cell_type": "code",
   "execution_count": 13,
   "id": "7d3ed1d7",
   "metadata": {},
   "outputs": [
    {
     "data": {
      "text/plain": [
       "{'content': '# DataTalks.Club FAQ\\n\\nMore information to come',\n",
       " 'filename': 'faq-main/README.md'}"
      ]
     },
     "execution_count": 13,
     "metadata": {},
     "output_type": "execute_result"
    }
   ],
   "source": [
    "dtc_faq[0]"
   ]
  },
  {
   "cell_type": "code",
   "execution_count": 14,
   "id": "31a1c240",
   "metadata": {},
   "outputs": [
    {
     "data": {
      "text/plain": [
       "{'title': 'Create Plant',\n",
       " 'openapi': 'POST /plants',\n",
       " 'content': '',\n",
       " 'filename': 'docs-main/api-reference/endpoint/create.mdx'}"
      ]
     },
     "execution_count": 14,
     "metadata": {},
     "output_type": "execute_result"
    }
   ],
   "source": [
    "evidently_docs[0]"
   ]
  },
  {
   "cell_type": "code",
   "execution_count": 7,
   "id": "b071cc02",
   "metadata": {},
   "outputs": [
    {
     "name": "stdout",
     "output_type": "stream",
     "text": [
      "Pydantic documents: 114\n"
     ]
    }
   ],
   "source": [
    "pydantic_docs = read_repo_data('pydantic', 'pydantic-ai')\n",
    "print(f\"Pydantic documents: {len(pydantic_docs)}\")"
   ]
  },
  {
   "cell_type": "code",
   "execution_count": 10,
   "id": "7117898c",
   "metadata": {},
   "outputs": [
    {
     "data": {
      "text/plain": [
       "{'content': '\"Output\" refers to the final value returned from [running an agent](agents.md#running-agents). This can be either plain text, [structured data](#structured-output), or the result of a [function](#output-functions) called with arguments provided by the model.\\n\\nThe output is wrapped in [`AgentRunResult`][pydantic_ai.agent.AgentRunResult] or [`StreamedRunResult`][pydantic_ai.result.StreamedRunResult] so that you can access other data, like [usage][pydantic_ai.usage.RunUsage] of the run and [message history](message-history.md#accessing-messages-from-results).\\n\\nBoth `AgentRunResult` and `StreamedRunResult` are generic in the data they wrap, so typing information about the data returned by the agent is preserved.\\n\\nA run ends when the model responds with one of the structured output types, or, if no output type is specified or `str` is one of the allowed options, when a plain text response is received. A run can also be cancelled if usage limits are exceeded, see [Usage Limits](agents.md#usage-limits).\\n\\nHere\\'s an example using a Pydantic model as the `output_type`, forcing the model to respond with data matching our specification:\\n\\n```python {title=\"olympics.py\" line_length=\"90\"}\\nfrom pydantic import BaseModel\\n\\nfrom pydantic_ai import Agent\\n\\n\\nclass CityLocation(BaseModel):\\n    city: str\\n    country: str\\n\\n\\nagent = Agent(\\'google-gla:gemini-1.5-flash\\', output_type=CityLocation)\\nresult = agent.run_sync(\\'Where were the olympics held in 2012?\\')\\nprint(result.output)\\n#> city=\\'London\\' country=\\'United Kingdom\\'\\nprint(result.usage())\\n#> RunUsage(input_tokens=57, output_tokens=8, requests=1)\\n```\\n\\n_(This example is complete, it can be run \"as is\")_\\n\\n## Output data {#structured-output}\\n\\nThe [`Agent`][pydantic_ai.Agent] class constructor takes an `output_type` argument that takes one or more types or [output functions](#output-functions). It supports simple scalar types, list and dict types (including `TypedDict`s and [`StructuredDict`s](#structured-dict)), dataclasses and Pydantic models, as well as type unions -- generally everything supported as type hints in a Pydantic model. You can also pass a list of multiple choices.\\n\\nBy default, Pydantic AI leverages the model\\'s tool calling capability to make it return structured data. When multiple output types are specified (in a union or list), each member is registered with the model as a separate output tool in order to reduce the complexity of the schema and maximise the chances a model will respond correctly. This has been shown to work well across a wide range of models. If you\\'d like to change the names of the output tools, use a model\\'s native structured output feature, or pass the output schema to the model in its [instructions](agents.md#instructions), you can use an [output mode](#output-modes) marker class.\\n\\nWhen no output type is specified, or when `str` is among the output types, any plain text response from the model will be used as the output data.\\nIf `str` is not among the output types, the model is forced to return structured data or call an output function.\\n\\nIf the output type schema is not of type `\"object\"` (e.g. it\\'s `int` or `list[int]`), the output type is wrapped in a single element object, so the schema of all tools registered with the model are object schemas.\\n\\nStructured outputs (like tools) use Pydantic to build the JSON schema used for the tool, and to validate the data returned by the model.\\n\\n!!! note \"Type checking considerations\"\\n    The Agent class is generic in its output type, and this type is carried through to `AgentRunResult.output` and `StreamedRunResult.output` so that your IDE or static type checker can warn you when your code doesn\\'t properly take into account all the possible values those outputs could have.\\n\\n    Static type checkers like pyright and mypy will do their best to infer the agent\\'s output type from the `output_type` you\\'ve specified, but they\\'re not always able to do so correctly when you provide functions or multiple types in a union or list, even though Pydantic AI will behave correctly. When this happens, your type checker will complain even when you\\'re confident you\\'ve passed a valid `output_type`, and you\\'ll need to help the type checker by explicitly specifying the generic parameters on the `Agent` constructor. This is shown in the second example below and the output functions example further down.\\n\\n    Specifically, there are three valid uses of `output_type` where you\\'ll need to do this:\\n\\n    1. When using a union of types, e.g. `output_type=Foo | Bar`. Until [PEP-747](https://peps.python.org/pep-0747/) \"Annotating Type Forms\" lands in Python 3.15, type checkers do not consider these a valid value for `output_type`. In addition to the generic parameters on the `Agent` constructor, you\\'ll need to add `# type: ignore` to the line that passes the union to `output_type`. Alternatively, you can use a list: `output_type=[Foo, Bar]`.\\n    2. With mypy: When using a list, as a functionally equivalent alternative to a union, or because you\\'re passing in [output functions](#output-functions). Pyright does handle this correctly, and we\\'ve filed [an issue](https://github.com/python/mypy/issues/19142) with mypy to try and get this fixed.\\n    3. With mypy: when using an async output function. Pyright does handle this correctly, and we\\'ve filed [an issue](https://github.com/python/mypy/issues/19143) with mypy to try and get this fixed.\\n\\nHere\\'s an example of returning either text or structured data:\\n\\n```python {title=\"box_or_error.py\"}\\n\\nfrom pydantic import BaseModel\\n\\nfrom pydantic_ai import Agent\\n\\n\\nclass Box(BaseModel):\\n    width: int\\n    height: int\\n    depth: int\\n    units: str\\n\\n\\nagent = Agent(\\n    \\'openai:gpt-4o-mini\\',\\n    output_type=[Box, str], # (1)!\\n    system_prompt=(\\n        \"Extract me the dimensions of a box, \"\\n        \"if you can\\'t extract all data, ask the user to try again.\"\\n    ),\\n)\\n\\nresult = agent.run_sync(\\'The box is 10x20x30\\')\\nprint(result.output)\\n#> Please provide the units for the dimensions (e.g., cm, in, m).\\n\\nresult = agent.run_sync(\\'The box is 10x20x30 cm\\')\\nprint(result.output)\\n#> width=10 height=20 depth=30 units=\\'cm\\'\\n```\\n\\n1. This could also have been a union: `output_type=Box | str`. However, as explained in the \"Type checking considerations\" section above, that would\\'ve required explicitly specifying the generic parameters on the `Agent` constructor and adding `# type: ignore` to this line in order to be type checked correctly.\\n\\n_(This example is complete, it can be run \"as is\")_\\n\\nHere\\'s an example of using a union return type, which will register multiple output tools and wrap non-object schemas in an object:\\n\\n```python {title=\"colors_or_sizes.py\"}\\nfrom pydantic_ai import Agent\\n\\nagent = Agent[None, list[str] | list[int]](\\n    \\'openai:gpt-4o-mini\\',\\n    output_type=list[str] | list[int],  # type: ignore # (1)!\\n    system_prompt=\\'Extract either colors or sizes from the shapes provided.\\',\\n)\\n\\nresult = agent.run_sync(\\'red square, blue circle, green triangle\\')\\nprint(result.output)\\n#> [\\'red\\', \\'blue\\', \\'green\\']\\n\\nresult = agent.run_sync(\\'square size 10, circle size 20, triangle size 30\\')\\nprint(result.output)\\n#> [10, 20, 30]\\n```\\n\\n1. As explained in the \"Type checking considerations\" section above, using a union rather than a list requires explicitly specifying the generic parameters on the `Agent` constructor and adding `# type: ignore` to this line in order to be type checked correctly.\\n\\n_(This example is complete, it can be run \"as is\")_\\n\\n### Output functions\\n\\nInstead of plain text or structured data, you may want the output of your agent run to be the result of a function called with arguments provided by the model, for example to further process or validate the data provided through the arguments (with the option to tell the model to try again), or to hand off to another agent.\\n\\nOutput functions are similar to [function tools](tools.md), but the model is forced to call one of them, the call ends the agent run, and the result is not passed back to the model.\\n\\nAs with tool functions, output function arguments provided by the model are validated using Pydantic, they can optionally take [`RunContext`][pydantic_ai.tools.RunContext] as the first argument, and they can raise [`ModelRetry`][pydantic_ai.exceptions.ModelRetry] to ask the model to try again with modified arguments (or with a different output type).\\n\\nTo specify output functions, you set the agent\\'s `output_type` to either a single function (or bound instance method), or a list of functions. The list can also contain other output types like simple scalars or entire Pydantic models.\\nYou typically do not want to also register your output function as a tool (using the `@agent.tool` decorator or `tools` argument), as this could confuse the model about which it should be calling.\\n\\nHere\\'s an example of all of these features in action:\\n\\n```python {title=\"output_functions.py\"}\\nimport re\\n\\nfrom pydantic import BaseModel\\n\\nfrom pydantic_ai import Agent, ModelRetry, RunContext, UnexpectedModelBehavior\\n\\n\\nclass Row(BaseModel):\\n    name: str\\n    country: str\\n\\n\\ntables = {\\n    \\'capital_cities\\': [\\n        Row(name=\\'Amsterdam\\', country=\\'Netherlands\\'),\\n        Row(name=\\'Mexico City\\', country=\\'Mexico\\'),\\n    ]\\n}\\n\\n\\nclass SQLFailure(BaseModel):\\n    \"\"\"An unrecoverable failure. Only use this when you can\\'t change the query to make it work.\"\"\"\\n\\n    explanation: str\\n\\n\\ndef run_sql_query(query: str) -> list[Row]:\\n    \"\"\"Run a SQL query on the database.\"\"\"\\n\\n    select_table = re.match(r\\'SELECT (.+) FROM (\\\\w+)\\', query)\\n    if select_table:\\n        column_names = select_table.group(1)\\n        if column_names != \\'*\\':\\n            raise ModelRetry(\"Only \\'SELECT *\\' is supported, you\\'ll have to do column filtering manually.\")\\n\\n        table_name = select_table.group(2)\\n        if table_name not in tables:\\n            raise ModelRetry(\\n                f\"Unknown table \\'{table_name}\\' in query \\'{query}\\'. Available tables: {\\', \\'.join(tables.keys())}.\"\\n            )\\n\\n        return tables[table_name]\\n\\n    raise ModelRetry(f\"Unsupported query: \\'{query}\\'.\")\\n\\n\\nsql_agent = Agent[None, list[Row] | SQLFailure](\\n    \\'openai:gpt-4o\\',\\n    output_type=[run_sql_query, SQLFailure],\\n    instructions=\\'You are a SQL agent that can run SQL queries on a database.\\',\\n)\\n\\n\\nasync def hand_off_to_sql_agent(ctx: RunContext, query: str) -> list[Row]:\\n    \"\"\"I take natural language queries, turn them into SQL, and run them on a database.\"\"\"\\n\\n    # Drop the final message with the output tool call, as it shouldn\\'t be passed on to the SQL agent\\n    messages = ctx.messages[:-1]\\n    try:\\n        result = await sql_agent.run(query, message_history=messages)\\n        output = result.output\\n        if isinstance(output, SQLFailure):\\n            raise ModelRetry(f\\'SQL agent failed: {output.explanation}\\')\\n        return output\\n    except UnexpectedModelBehavior as e:\\n        # Bubble up potentially retryable errors to the router agent\\n        if (cause := e.__cause__) and isinstance(cause, ModelRetry):\\n            raise ModelRetry(f\\'SQL agent failed: {cause.message}\\') from e\\n        else:\\n            raise\\n\\n\\nclass RouterFailure(BaseModel):\\n    \"\"\"Use me when no appropriate agent is found or the used agent failed.\"\"\"\\n\\n    explanation: str\\n\\n\\nrouter_agent = Agent[None, list[Row] | RouterFailure](\\n    \\'openai:gpt-4o\\',\\n    output_type=[hand_off_to_sql_agent, RouterFailure],\\n    instructions=\\'You are a router to other agents. Never try to solve a problem yourself, just pass it on.\\',\\n)\\n\\nresult = router_agent.run_sync(\\'Select the names and countries of all capitals\\')\\nprint(result.output)\\n\"\"\"\\n[\\n    Row(name=\\'Amsterdam\\', country=\\'Netherlands\\'),\\n    Row(name=\\'Mexico City\\', country=\\'Mexico\\'),\\n]\\n\"\"\"\\n\\nresult = router_agent.run_sync(\\'Select all pets\\')\\nprint(repr(result.output))\\n\"\"\"\\nRouterFailure(explanation=\"The requested table \\'pets\\' does not exist in the database. The only available table is \\'capital_cities\\', which does not contain data about pets.\")\\n\"\"\"\\n\\nresult = router_agent.run_sync(\\'How do I fly from Amsterdam to Mexico City?\\')\\nprint(repr(result.output))\\n\"\"\"\\nRouterFailure(explanation=\\'I am not equipped to provide travel information, such as flights from Amsterdam to Mexico City.\\')\\n\"\"\"\\n```\\n\\n#### Text output\\n\\nIf you provide an output function that takes a string, Pydantic AI will by default create an output tool like for any other output function. If instead you\\'d like the model to provide the string using plain text output, you can wrap the function in the [`TextOutput`][pydantic_ai.output.TextOutput] marker class. If desired, this marker class can be used alongside one or more [`ToolOutput`](#tool-output) marker classes (or unmarked types or functions) in a list provided to `output_type`.\\n\\n```python {title=\"text_output_function.py\"}\\nfrom pydantic_ai import Agent, TextOutput\\n\\n\\ndef split_into_words(text: str) -> list[str]:\\n    return text.split()\\n\\n\\nagent = Agent(\\n    \\'openai:gpt-4o\\',\\n    output_type=TextOutput(split_into_words),\\n)\\nresult = agent.run_sync(\\'Who was Albert Einstein?\\')\\nprint(result.output)\\n#> [\\'Albert\\', \\'Einstein\\', \\'was\\', \\'a\\', \\'German-born\\', \\'theoretical\\', \\'physicist.\\']\\n```\\n\\n_(This example is complete, it can be run \"as is\")_\\n\\n### Output modes\\n\\nPydantic AI implements three different methods to get a model to output structured data:\\n\\n1. [Tool Output](#tool-output), where tool calls are used to produce the output.\\n2. [Native Output](#native-output), where the model is required to produce text content compliant with a provided JSON schema.\\n3. [Prompted Output](#prompted-output), where a prompt is injected into the model instructions including the desired JSON schema, and we attempt to parse the model\\'s plain-text response as appropriate.\\n\\n#### Tool Output\\n\\nIn the default Tool Output mode, the output JSON schema of each output type (or function) is provided to the model as the parameters schema of a special output tool. This is the default as it\\'s supported by virtually all models and has been shown to work very well.\\n\\nIf you\\'d like to change the name of the output tool, pass a custom description to aid the model, or turn on or off strict mode, you can wrap the type(s) in the [`ToolOutput`][pydantic_ai.output.ToolOutput] marker class and provide the appropriate arguments. Note that by default, the description is taken from the docstring specified on a Pydantic model or output function, so specifying it using the marker class is typically not necessary.\\n\\nTo dynamically modify or filter the available output tools during an agent run, you can define an agent-wide `prepare_output_tools` function that will be called ahead of each step of a run. This function should be of type [`ToolsPrepareFunc`][pydantic_ai.tools.ToolsPrepareFunc], which takes the [`RunContext`][pydantic_ai.tools.RunContext] and a list of [`ToolDefinition`][pydantic_ai.tools.ToolDefinition], and returns a new list of tool definitions (or `None` to disable all tools for that step). This is analogous to the [`prepare_tools` function](tools-advanced.md#prepare-tools) for non-output tools.\\n\\n```python {title=\"tool_output.py\"}\\nfrom pydantic import BaseModel\\n\\nfrom pydantic_ai import Agent, ToolOutput\\n\\n\\nclass Fruit(BaseModel):\\n    name: str\\n    color: str\\n\\n\\nclass Vehicle(BaseModel):\\n    name: str\\n    wheels: int\\n\\n\\nagent = Agent(\\n    \\'openai:gpt-4o\\',\\n    output_type=[ # (1)!\\n        ToolOutput(Fruit, name=\\'return_fruit\\'),\\n        ToolOutput(Vehicle, name=\\'return_vehicle\\'),\\n    ],\\n)\\nresult = agent.run_sync(\\'What is a banana?\\')\\nprint(repr(result.output))\\n#> Fruit(name=\\'banana\\', color=\\'yellow\\')\\n```\\n\\n1. If we were passing just `Fruit` and `Vehicle` without custom tool names, we could have used a union: `output_type=Fruit | Vehicle`. However, as `ToolOutput` is an object rather than a type, we have to use a list.\\n\\n_(This example is complete, it can be run \"as is\")_\\n\\n#### Native Output\\n\\nNative Output mode uses a model\\'s native \"Structured Outputs\" feature (aka \"JSON Schema response format\"), where the model is forced to only output text matching the provided JSON schema. Note that this is not supported by all models, and sometimes comes with restrictions. For example, Anthropic does not support this at all, and Gemini cannot use tools at the same time as structured output, and attempting to do so will result in an error.\\n\\nTo use this mode, you can wrap the output type(s) in the [`NativeOutput`][pydantic_ai.output.NativeOutput] marker class that also lets you specify a `name` and `description` if the name and docstring of the type or function are not sufficient.\\n\\n```python {title=\"native_output.py\" requires=\"tool_output.py\"}\\nfrom pydantic_ai import Agent, NativeOutput\\n\\nfrom tool_output import Fruit, Vehicle\\n\\nagent = Agent(\\n    \\'openai:gpt-4o\\',\\n    output_type=NativeOutput(\\n        [Fruit, Vehicle], # (1)!\\n        name=\\'Fruit_or_vehicle\\',\\n        description=\\'Return a fruit or vehicle.\\'\\n    ),\\n)\\nresult = agent.run_sync(\\'What is a Ford Explorer?\\')\\nprint(repr(result.output))\\n#> Vehicle(name=\\'Ford Explorer\\', wheels=4)\\n```\\n\\n1. This could also have been a union: `output_type=Fruit | Vehicle`. However, as explained in the \"Type checking considerations\" section above, that would\\'ve required explicitly specifying the generic parameters on the `Agent` constructor and adding `# type: ignore` to this line in order to be type checked correctly.\\n\\n_(This example is complete, it can be run \"as is\")_\\n\\n#### Prompted Output\\n\\nIn this mode, the model is prompted to output text matching the provided JSON schema through its [instructions](agents.md#instructions) and it\\'s up to the model to interpret those instructions correctly. This is usable with all models, but is often the least reliable approach as the model is not forced to match the schema.\\n\\nWhile we would generally suggest starting with tool or native output, in some cases this mode may result in higher quality outputs, and for models without native tool calling or structured output support it is the only option for producing structured outputs.\\n\\nIf the model API supports the \"JSON Mode\" feature (aka \"JSON Object response format\") to force the model to output valid JSON, this is enabled, but it\\'s still up to the model to abide by the schema. Pydantic AI will validate the returned structured data and tell the model to try again if validation fails, but if the model is not intelligent enough this may not be sufficient.\\n\\nTo use this mode, you can wrap the output type(s) in the [`PromptedOutput`][pydantic_ai.output.PromptedOutput] marker class that also lets you specify a `name` and `description` if the name and docstring of the type or function are not sufficient. Additionally, it supports an `template` argument lets you specify a custom instructions template to be used instead of the [default][pydantic_ai.profiles.ModelProfile.prompted_output_template].\\n\\n```python {title=\"prompted_output.py\" requires=\"tool_output.py\"}\\nfrom pydantic import BaseModel\\n\\nfrom pydantic_ai import Agent, PromptedOutput\\n\\nfrom tool_output import Vehicle\\n\\n\\nclass Device(BaseModel):\\n    name: str\\n    kind: str\\n\\n\\nagent = Agent(\\n    \\'openai:gpt-4o\\',\\n    output_type=PromptedOutput(\\n        [Vehicle, Device], # (1)!\\n        name=\\'Vehicle or device\\',\\n        description=\\'Return a vehicle or device.\\'\\n    ),\\n)\\nresult = agent.run_sync(\\'What is a MacBook?\\')\\nprint(repr(result.output))\\n#> Device(name=\\'MacBook\\', kind=\\'laptop\\')\\n\\nagent = Agent(\\n    \\'openai:gpt-4o\\',\\n    output_type=PromptedOutput(\\n        [Vehicle, Device],\\n        template=\\'Gimme some JSON: {schema}\\'\\n    ),\\n)\\nresult = agent.run_sync(\\'What is a Ford Explorer?\\')\\nprint(repr(result.output))\\n#> Vehicle(name=\\'Ford Explorer\\', wheels=4)\\n```\\n\\n1. This could also have been a union: `output_type=Vehicle | Device`. However, as explained in the \"Type checking considerations\" section above, that would\\'ve required explicitly specifying the generic parameters on the `Agent` constructor and adding `# type: ignore` to this line in order to be type checked correctly.\\n\\n_(This example is complete, it can be run \"as is\")_\\n\\n### Custom JSON schema {#structured-dict}\\n\\nIf it\\'s not feasible to define your desired structured output object using a Pydantic `BaseModel`, dataclass, or `TypedDict`, for example when you get a JSON schema from an external source or generate it dynamically, you can use the [`StructuredDict()`][pydantic_ai.output.StructuredDict] helper function to generate a `dict[str, Any]` subclass with a JSON schema attached that Pydantic AI will pass to the model.\\n\\nNote that Pydantic AI will not perform any validation of the received JSON object and it\\'s up to the model to correctly interpret the schema and any constraints expressed in it, like required fields or integer value ranges.\\n\\nThe output type will be a `dict[str, Any]` and it\\'s up to your code to defensively read from it in case the model made a mistake. You can use an [output validator](#output-validator-functions) to reflect validation errors back to the model and get it to try again.\\n\\nAlong with the JSON schema, you can optionally pass `name` and `description` arguments to provide additional context to the model:\\n\\n```python\\nfrom pydantic_ai import Agent, StructuredDict\\n\\nHumanDict = StructuredDict(\\n    {\\n        \\'type\\': \\'object\\',\\n        \\'properties\\': {\\n            \\'name\\': {\\'type\\': \\'string\\'},\\n            \\'age\\': {\\'type\\': \\'integer\\'}\\n        },\\n        \\'required\\': [\\'name\\', \\'age\\']\\n    },\\n    name=\\'Human\\',\\n    description=\\'A human with a name and age\\',\\n)\\n\\nagent = Agent(\\'openai:gpt-4o\\', output_type=HumanDict)\\nresult = agent.run_sync(\\'Create a person\\')\\n#> {\\'name\\': \\'John Doe\\', \\'age\\': 30}\\n```\\n\\n### Output validators {#output-validator-functions}\\n\\nSome validation is inconvenient or impossible to do in Pydantic validators, in particular when the validation requires IO and is asynchronous. Pydantic AI provides a way to add validation functions via the [`agent.output_validator`][pydantic_ai.Agent.output_validator] decorator.\\n\\nIf you want to implement separate validation logic for different output types, it\\'s recommended to use [output functions](#output-functions) instead, to save you from having to do `isinstance` checks inside the output validator.\\nIf you want the model to output plain text, do your own processing or validation, and then have the agent\\'s final output be the result of your function, it\\'s recommended to use an [output function](#output-functions) with the [`TextOutput` marker class](#text-output).\\n\\nHere\\'s a simplified variant of the [SQL Generation example](examples/sql-gen.md):\\n\\n```python {title=\"sql_gen.py\"}\\nfrom fake_database import DatabaseConn, QueryError\\nfrom pydantic import BaseModel\\n\\nfrom pydantic_ai import Agent, RunContext, ModelRetry\\n\\n\\nclass Success(BaseModel):\\n    sql_query: str\\n\\n\\nclass InvalidRequest(BaseModel):\\n    error_message: str\\n\\n\\nOutput = Success | InvalidRequest\\nagent = Agent[DatabaseConn, Output](\\n    \\'google-gla:gemini-1.5-flash\\',\\n    output_type=Output,  # type: ignore\\n    deps_type=DatabaseConn,\\n    system_prompt=\\'Generate PostgreSQL flavored SQL queries based on user input.\\',\\n)\\n\\n\\n@agent.output_validator\\nasync def validate_sql(ctx: RunContext[DatabaseConn], output: Output) -> Output:\\n    if isinstance(output, InvalidRequest):\\n        return output\\n    try:\\n        await ctx.deps.execute(f\\'EXPLAIN {output.sql_query}\\')\\n    except QueryError as e:\\n        raise ModelRetry(f\\'Invalid query: {e}\\') from e\\n    else:\\n        return output\\n\\n\\nresult = agent.run_sync(\\n    \\'get me users who were last active yesterday.\\', deps=DatabaseConn()\\n)\\nprint(result.output)\\n#> sql_query=\\'SELECT * FROM users WHERE last_active::date = today() - interval 1 day\\'\\n```\\n\\n_(This example is complete, it can be run \"as is\")_\\n\\n## Streamed Results\\n\\nThere two main challenges with streamed results:\\n\\n1. Validating structured responses before they\\'re complete, this is achieved by \"partial validation\" which was recently added to Pydantic in [pydantic/pydantic#10748](https://github.com/pydantic/pydantic/pull/10748).\\n2. When receiving a response, we don\\'t know if it\\'s the final response without starting to stream it and peeking at the content. Pydantic AI streams just enough of the response to sniff out if it\\'s a tool call or an output, then streams the whole thing and calls tools, or returns the stream as a [`StreamedRunResult`][pydantic_ai.result.StreamedRunResult].\\n\\n!!! note\\n    As the `run_stream()` method will consider the first output matching the `output_type` to be the final output,\\n    it will stop running the agent graph and will not execute any tool calls made by the model after this \"final\" output.\\n\\n    If you want to always run the agent graph to completion and stream all events from the model\\'s streaming response and the agent\\'s execution of tools,\\n    use [`agent.run()`][pydantic_ai.agent.AbstractAgent.run] with an `event_stream_handler` ([docs](agents.md#streaming-all-events)) or [`agent.iter()`][pydantic_ai.agent.AbstractAgent.iter] ([docs](agents.md#streaming-all-events-and-output)) instead.\\n\\n### Streaming Text\\n\\nExample of streamed text output:\\n\\n```python {title=\"streamed_hello_world.py\" line_length=\"120\"}\\nfrom pydantic_ai import Agent\\n\\nagent = Agent(\\'google-gla:gemini-1.5-flash\\')  # (1)!\\n\\n\\nasync def main():\\n    async with agent.run_stream(\\'Where does \"hello world\" come from?\\') as result:  # (2)!\\n        async for message in result.stream_text():  # (3)!\\n            print(message)\\n            #> The first known\\n            #> The first known use of \"hello,\\n            #> The first known use of \"hello, world\" was in\\n            #> The first known use of \"hello, world\" was in a 1974 textbook\\n            #> The first known use of \"hello, world\" was in a 1974 textbook about the C\\n            #> The first known use of \"hello, world\" was in a 1974 textbook about the C programming language.\\n```\\n\\n1. Streaming works with the standard [`Agent`][pydantic_ai.Agent] class, and doesn\\'t require any special setup, just a model that supports streaming (currently all models support streaming).\\n2. The [`Agent.run_stream()`][pydantic_ai.agent.AbstractAgent.run_stream] method is used to start a streamed run, this method returns a context manager so the connection can be closed when the stream completes.\\n3. Each item yield by [`StreamedRunResult.stream_text()`][pydantic_ai.result.StreamedRunResult.stream_text] is the complete text response, extended as new data is received.\\n\\n_(This example is complete, it can be run \"as is\" — you\\'ll need to add `asyncio.run(main())` to run `main`)_\\n\\nWe can also stream text as deltas rather than the entire text in each item:\\n\\n```python {title=\"streamed_delta_hello_world.py\"}\\nfrom pydantic_ai import Agent\\n\\nagent = Agent(\\'google-gla:gemini-1.5-flash\\')\\n\\n\\nasync def main():\\n    async with agent.run_stream(\\'Where does \"hello world\" come from?\\') as result:\\n        async for message in result.stream_text(delta=True):  # (1)!\\n            print(message)\\n            #> The first known\\n            #> use of \"hello,\\n            #> world\" was in\\n            #> a 1974 textbook\\n            #> about the C\\n            #> programming language.\\n```\\n\\n1. [`stream_text`][pydantic_ai.result.StreamedRunResult.stream_text] will error if the response is not text.\\n\\n_(This example is complete, it can be run \"as is\" — you\\'ll need to add `asyncio.run(main())` to run `main`)_\\n\\n!!! warning \"Output message not included in `messages`\"\\n    The final output message will **NOT** be added to result messages if you use `.stream_text(delta=True)`,\\n    see [Messages and chat history](message-history.md) for more information.\\n\\n### Streaming Structured Output\\n\\nHere\\'s an example of streaming a user profile as it\\'s built:\\n\\n```python {title=\"streamed_user_profile.py\" line_length=\"120\"}\\nfrom datetime import date\\n\\nfrom typing_extensions import NotRequired, TypedDict\\n\\nfrom pydantic_ai import Agent\\n\\n\\nclass UserProfile(TypedDict):\\n    name: str\\n    dob: NotRequired[date]\\n    bio: NotRequired[str]\\n\\n\\nagent = Agent(\\n    \\'openai:gpt-4o\\',\\n    output_type=UserProfile,\\n    system_prompt=\\'Extract a user profile from the input\\',\\n)\\n\\n\\nasync def main():\\n    user_input = \\'My name is Ben, I was born on January 28th 1990, I like the chain the dog and the pyramid.\\'\\n    async with agent.run_stream(user_input) as result:\\n        async for profile in result.stream_output():\\n            print(profile)\\n            #> {\\'name\\': \\'Ben\\'}\\n            #> {\\'name\\': \\'Ben\\'}\\n            #> {\\'name\\': \\'Ben\\', \\'dob\\': date(1990, 1, 28), \\'bio\\': \\'Likes\\'}\\n            #> {\\'name\\': \\'Ben\\', \\'dob\\': date(1990, 1, 28), \\'bio\\': \\'Likes the chain the \\'}\\n            #> {\\'name\\': \\'Ben\\', \\'dob\\': date(1990, 1, 28), \\'bio\\': \\'Likes the chain the dog and the pyr\\'}\\n            #> {\\'name\\': \\'Ben\\', \\'dob\\': date(1990, 1, 28), \\'bio\\': \\'Likes the chain the dog and the pyramid\\'}\\n            #> {\\'name\\': \\'Ben\\', \\'dob\\': date(1990, 1, 28), \\'bio\\': \\'Likes the chain the dog and the pyramid\\'}\\n```\\n\\n_(This example is complete, it can be run \"as is\" — you\\'ll need to add `asyncio.run(main())` to run `main`)_\\n\\nAs setting an `output_type` uses the [Tool Output](#tool-output) mode by default, this will only work if the model supports streaming tool arguments. For models that don\\'t, like Gemini, try [Native Output](#native-output) or [Prompted Output](#prompted-output) instead.\\n\\n### Streaming Model Responses\\n\\nIf you want fine-grained control of validation, you can use the following pattern to get the entire partial [`ModelResponse`][pydantic_ai.messages.ModelResponse]:\\n\\n```python {title=\"streamed_user_profile.py\" line_length=\"120\"}\\nfrom datetime import date\\n\\nfrom pydantic import ValidationError\\nfrom typing_extensions import TypedDict\\n\\nfrom pydantic_ai import Agent\\n\\n\\nclass UserProfile(TypedDict, total=False):\\n    name: str\\n    dob: date\\n    bio: str\\n\\n\\nagent = Agent(\\'openai:gpt-4o\\', output_type=UserProfile)\\n\\n\\nasync def main():\\n    user_input = \\'My name is Ben, I was born on January 28th 1990, I like the chain the dog and the pyramid.\\'\\n    async with agent.run_stream(user_input) as result:\\n        async for message, last in result.stream_responses(debounce_by=0.01):  # (1)!\\n            try:\\n                profile = await result.validate_response_output(  # (2)!\\n                    message,\\n                    allow_partial=not last,\\n                )\\n            except ValidationError:\\n                continue\\n            print(profile)\\n            #> {\\'name\\': \\'Ben\\'}\\n            #> {\\'name\\': \\'Ben\\'}\\n            #> {\\'name\\': \\'Ben\\', \\'dob\\': date(1990, 1, 28), \\'bio\\': \\'Likes\\'}\\n            #> {\\'name\\': \\'Ben\\', \\'dob\\': date(1990, 1, 28), \\'bio\\': \\'Likes the chain the \\'}\\n            #> {\\'name\\': \\'Ben\\', \\'dob\\': date(1990, 1, 28), \\'bio\\': \\'Likes the chain the dog and the pyr\\'}\\n            #> {\\'name\\': \\'Ben\\', \\'dob\\': date(1990, 1, 28), \\'bio\\': \\'Likes the chain the dog and the pyramid\\'}\\n            #> {\\'name\\': \\'Ben\\', \\'dob\\': date(1990, 1, 28), \\'bio\\': \\'Likes the chain the dog and the pyramid\\'}\\n```\\n\\n1. [`stream_responses`][pydantic_ai.result.StreamedRunResult.stream_responses] streams the data as [`ModelResponse`][pydantic_ai.messages.ModelResponse] objects, thus iteration can\\'t fail with a `ValidationError`.\\n2. [`validate_response_output`][pydantic_ai.result.StreamedRunResult.validate_response_output] validates the data, `allow_partial=True` enables pydantic\\'s [`experimental_allow_partial` flag on `TypeAdapter`][pydantic.type_adapter.TypeAdapter.validate_json].\\n\\n_(This example is complete, it can be run \"as is\" — you\\'ll need to add `asyncio.run(main())` to run `main`)_\\n\\n## Examples\\n\\nThe following examples demonstrate how to use streamed responses in Pydantic AI:\\n\\n- [Stream markdown](examples/stream-markdown.md)\\n- [Stream Whales](examples/stream-whales.md)',\n",
       " 'filename': 'pydantic-ai-main/docs/output.md'}"
      ]
     },
     "execution_count": 10,
     "metadata": {},
     "output_type": "execute_result"
    }
   ],
   "source": [
    "pydantic_docs[100]"
   ]
  },
  {
   "cell_type": "code",
   "execution_count": null,
   "id": "c3b75709",
   "metadata": {},
   "outputs": [],
   "source": []
  }
 ],
 "metadata": {
  "kernelspec": {
   "display_name": "ai-agent-crash-course",
   "language": "python",
   "name": "python3"
  },
  "language_info": {
   "codemirror_mode": {
    "name": "ipython",
    "version": 3
   },
   "file_extension": ".py",
   "mimetype": "text/x-python",
   "name": "python",
   "nbconvert_exporter": "python",
   "pygments_lexer": "ipython3",
   "version": "3.12.6"
  }
 },
 "nbformat": 4,
 "nbformat_minor": 5
}
