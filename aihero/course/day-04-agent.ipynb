{
 "cells": [
  {
   "cell_type": "markdown",
   "id": "4c248805",
   "metadata": {},
   "source": [
    "# Day 4: Agents and Tools\n",
    "\n",
    "https://docs.google.com/document/d/1x8w85qr_ai-uodf2Q3kTPTaaehNloPwuKUAhf_Rsyi0/edit?tab=t.0"
   ]
  },
  {
   "cell_type": "markdown",
   "id": "8ccb44f1",
   "metadata": {},
   "source": [
    "### 1. Tools and Agents\n",
    "\n",
    "An agent is an LLM that can not only generate texts, but also invoke tools. Tools are external functions that the LLM can call in order to retrieve information, perform calculations, or take actions."
   ]
  },
  {
   "cell_type": "code",
   "execution_count": 18,
   "id": "ff9fc350",
   "metadata": {},
   "outputs": [
    {
     "name": "stdout",
     "output_type": "stream",
     "text": [
      "It sounds like you’re interested in joining a course you just found. I can definitely help you figure out the next steps! \n",
      "\n",
      "---\n",
      "\n",
      "### 1️⃣ Which Course Are You Interested In?\n",
      "- **Course Title / ID** (if you have it handy)\n",
      "- **Instructor / Institution** (helps us locate the exact class)\n",
      "\n",
      "### 2️⃣ Enrollment Window\n",
      "- Most courses have a **fixed enrollment period** (e.g., a few weeks before the start date).\n",
      "- If you’re within that window, you can usually register immediately.\n",
      "- If the window has closed, we can:\n",
      "  - **Add you to a waitlist** (if the platform offers it).\n",
      "  - Suggest an **alternate session** that starts soon.\n",
      "  - Check if there’s a **recorded version** you can access later.\n",
      "\n",
      "### 3️⃣ Prerequisites & Materials\n",
      "- Some courses require specific knowledge or pre‑work.  \n",
      "  - If you’re unsure, let me know the course name and I’ll pull up the prerequisites list.\n",
      "- Also, confirm whether you need to download any software, text, or other resources beforehand.\n",
      "\n",
      "### 4️⃣ Payment & Confirmation\n",
      "- Once you’re within the enrollment window, you’ll typically:\n",
      "  1. **Select the course** on the platform.\n",
      "  2. **Proceed to payment** (credit card, PayPal, or platform credits).\n",
      "  3. Receive a **confirmation email** with a unique course link.\n",
      "\n",
      "### 5️⃣ What If the Course Is Already Full?\n",
      "- Many courses cap enrollment.  \n",
      "  - If it’s full, we can:\n",
      "    - **Add you to a waiting list** (you’ll be notified if a spot opens).\n",
      "    - Suggest a **future cohort** or a similar course.\n",
      "\n",
      "---\n",
      "\n",
      "## Quick Checklist for You\n",
      "\n",
      "| ✅ | Item |\n",
      "|---|------|\n",
      "| 1 | Identify the exact course (title/ID). |\n",
      "| 2 | Check the enrollment deadline. |\n",
      "| 3 | Verify prerequisites. |\n",
      "| 4 | Prepare payment info. |\n",
      "| 5 | Note any additional resources you’ll need. |\n",
      "\n",
      "---\n",
      "\n",
      "### Let’s Get Started!\n",
      "Just give me the course details (or a link), and I’ll look up the enrollment status, deadlines, and any special requirements. If you’re unsure about a particular course, I can also recommend alternatives that start soon. \n",
      "\n",
      "Looking forward to helping you enroll! 🚀\n"
     ]
    }
   ],
   "source": [
    "import os\n",
    "import openai\n",
    "from groq import Groq\n",
    "\n",
    "# Initialize the OpenAI client, but point it to the Groq API endpoint\n",
    "# groq_client = openai.OpenAI(\n",
    "#     api_key=os.environ.get(\"GROQ_API_KEY\"),\n",
    "#     base_url=\"https://api.groq.com/openai/v1\",\n",
    "# )\n",
    "\n",
    "\n",
    "groq_client = Groq(\n",
    "    api_key=os.environ.get(\"GROQ_API_KEY\")\n",
    "    )\n",
    "\n",
    "user_prompt = \"I just discovered the course, can I join now?\"\n",
    "\n",
    "chat_messages = [\n",
    "    {\"role\": \"user\", \"content\": user_prompt}\n",
    "]\n",
    "\n",
    "response = groq_client.chat.completions.create(\n",
    "        messages = chat_messages,\n",
    "        model = \"openai/gpt-oss-20b\",\n",
    "    )\n",
    "\n",
    "print(response.choices[0].message.content)"
   ]
  },
  {
   "cell_type": "markdown",
   "id": "c3a5fddc",
   "metadata": {},
   "source": [
    "With only LLM, the response is generic and the answer is not really useful.\n",
    "\n",
    "But if we let it invoke the `search(query)`, the agent can give us a more useful answer.\n",
    "\n",
    "Here's how the conversation would flow with our agent using the `search` tool:\n",
    "- **User**: \"I just discovered the course, can I join now?\"\n",
    "- **Agent** thinking: I can't answer this question, so I need to search for information about course enrollment and timing.\n",
    "- **Tool call**: `search(\"course enrollment join registration deadline\")`\n",
    "- **Tool response**: (...search results...)\n",
    "- **Agent response**: \"Yes, you can still join the course even after the start date...\"\n"
   ]
  },
  {
   "cell_type": "code",
   "execution_count": null,
   "id": "ca49bb10",
   "metadata": {},
   "outputs": [],
   "source": []
  },
  {
   "cell_type": "markdown",
   "id": "1ea29d76",
   "metadata": {},
   "source": [
    "### 2. Function Calling with OpenAI"
   ]
  },
  {
   "cell_type": "code",
   "execution_count": 33,
   "id": "8431c250",
   "metadata": {},
   "outputs": [],
   "source": [
    "from utils.ingest import read_repo_data\n",
    "from minsearch import Index\n",
    "from pprint import pprint"
   ]
  },
  {
   "cell_type": "code",
   "execution_count": 7,
   "id": "4cda6c38",
   "metadata": {},
   "outputs": [
    {
     "data": {
      "text/plain": [
       "<minsearch.minsearch.Index at 0x774be739ec90>"
      ]
     },
     "execution_count": 7,
     "metadata": {},
     "output_type": "execute_result"
    }
   ],
   "source": [
    "# DataTalksClub FAQ\n",
    "dtc_faq = read_repo_data('DataTalksClub', 'faq')\n",
    "\n",
    "de_dtc_faq = [d for d in dtc_faq if 'data-engineering' in d['filename']]\n",
    "\n",
    "faq_index = Index(\n",
    "    text_fields=[\"question\", \"content\"],\n",
    "    keyword_fields=[]\n",
    ")\n",
    "\n",
    "faq_index.fit(de_dtc_faq)"
   ]
  },
  {
   "cell_type": "code",
   "execution_count": 8,
   "id": "da213d51",
   "metadata": {},
   "outputs": [],
   "source": [
    "def text_search(query):\n",
    "    return faq_index.search(query, num_results=5)"
   ]
  },
  {
   "cell_type": "code",
   "execution_count": 19,
   "id": "72181b46",
   "metadata": {},
   "outputs": [],
   "source": [
    "text_search_tool = {\n",
    "    \"type\": \"function\",\n",
    "    \"function\": {\n",
    "        \"name\": \"text_search\",\n",
    "        \"description\": \"Search the FAQ database.\",\n",
    "        \"parameters\": {\n",
    "            \"type\": \"object\",\n",
    "            \"properties\": {\n",
    "                \"query\": {\n",
    "                    \"type\": \"string\",\n",
    "                    \"description\": \"Search query text to look up in the course FAQ.\"\n",
    "                }\n",
    "            },\n",
    "            \"required\": [\"query\"],\n",
    "            \"additionalProperties\": False\n",
    "        }\n",
    "    }\n",
    "}"
   ]
  },
  {
   "cell_type": "code",
   "execution_count": 55,
   "id": "cface8eb",
   "metadata": {},
   "outputs": [],
   "source": [
    "system_prompt = \"\"\"\n",
    "You are a helpful assistant for a course. \n",
    "\"\"\"\n",
    "\n",
    "question = \"I just discovered the course, can I join now?\"\n",
    "\n",
    "chat_messages = [\n",
    "    {\"role\": \"system\", \"content\": system_prompt},\n",
    "    {\"role\": \"user\", \"content\": question}\n",
    "]\n",
    "\n",
    "response = groq_client.chat.completions.create(\n",
    "    model='openai/gpt-oss-20b',\n",
    "    messages=chat_messages,\n",
    "    tools=[text_search_tool]\n",
    ")"
   ]
  },
  {
   "cell_type": "code",
   "execution_count": 56,
   "id": "892e9dbf",
   "metadata": {},
   "outputs": [
    {
     "name": "stdout",
     "output_type": "stream",
     "text": [
      "[ChatCompletionMessageToolCall(id='fc_06c903e3-6fb2-4235-8134-169675cda982', function=Function(arguments='{\"query\":\"join course now enrollment deadline\"}', name='text_search'), type='function')]\n"
     ]
    }
   ],
   "source": [
    "response_message = response.choices[0].message\n",
    "tool_calls = response_message.tool_calls\n",
    "print(tool_calls)"
   ]
  },
  {
   "cell_type": "code",
   "execution_count": 57,
   "id": "0ea51299",
   "metadata": {},
   "outputs": [
    {
     "name": "stdout",
     "output_type": "stream",
     "text": [
      "{'query': 'join course now enrollment deadline'}\n"
     ]
    }
   ],
   "source": [
    "import json\n",
    "\n",
    "tool_call = tool_calls[0]\n",
    "\n",
    "arguments = json.loads(tool_call.function.arguments)\n",
    "pprint(arguments)"
   ]
  },
  {
   "cell_type": "code",
   "execution_count": 58,
   "id": "5ececd4b",
   "metadata": {},
   "outputs": [
    {
     "name": "stdout",
     "output_type": "stream",
     "text": [
      "[{'content': \"Yes, even if you don't register, you're still eligible to submit \"\n",
      "             'the homework.\\n'\n",
      "             '\\n'\n",
      "             'Be aware, however, that there will be deadlines for turning in '\n",
      "             \"homeworks and the final projects. So don't leave everything for \"\n",
      "             'the last minute.',\n",
      "  'filename': 'faq-main/_questions/data-engineering-zoomcamp/general/003_3f1424af17_course-can-i-still-join-the-course-after-the-start.md',\n",
      "  'id': '3f1424af17',\n",
      "  'question': 'Course: Can I still join the course after the start date?',\n",
      "  'sort_order': 3},\n",
      " {'content': 'The next cohort starts January 13th, 2025. More info at '\n",
      "             '[DTC](https://datatalks.club/blog/guide-to-free-online-courses-at-datatalks-club.html).\\n'\n",
      "             '\\n'\n",
      "             '- Register before the course starts using this '\n",
      "             '[link](https://airtable.com/shr6oVXeQvSI5HuWD).\\n'\n",
      "             '- Join the [course Telegram channel with '\n",
      "             'announcements](https://t.me/dezoomcamp).\\n'\n",
      "             \"- Don’t forget to register in DataTalks.Club's Slack and join \"\n",
      "             'the channel.',\n",
      "  'filename': 'faq-main/_questions/data-engineering-zoomcamp/general/001_9e508f2212_course-when-does-the-course-start.md',\n",
      "  'id': '9e508f2212',\n",
      "  'question': 'Course: When does the course start?',\n",
      "  'sort_order': 1},\n",
      " {'content': 'To get the most out of this course, you should have:\\n'\n",
      "             '\\n'\n",
      "             '- Basic coding experience\\n'\n",
      "             '- Familiarity with SQL\\n'\n",
      "             '- Experience with Python (helpful but not required)\\n'\n",
      "             '\\n'\n",
      "             'No prior data engineering experience is necessary. See [Readme '\n",
      "             'on '\n",
      "             'GitHub](https://github.com/DataTalksClub/data-engineering-zoomcamp/blob/main/README.md#prerequisites).',\n",
      "  'filename': 'faq-main/_questions/data-engineering-zoomcamp/general/002_bfafa427b3_course-what-are-the-prerequisites-for-this-course.md',\n",
      "  'id': 'bfafa427b3',\n",
      "  'question': 'Course: What are the prerequisites for this course?',\n",
      "  'sort_order': 2},\n",
      " {'content': 'Yes, we will keep all the materials available, so you can follow '\n",
      "             'the course at your own pace after it finishes.\\n'\n",
      "             '\\n'\n",
      "             'You can also continue reviewing the homeworks and prepare for '\n",
      "             'the next cohort. You can also start working on your final '\n",
      "             'capstone project.',\n",
      "  'filename': 'faq-main/_questions/data-engineering-zoomcamp/general/008_068529125b_course-can-i-follow-the-course-after-it-finishes.md',\n",
      "  'id': '068529125b',\n",
      "  'question': 'Course - Can I follow the course after it finishes?',\n",
      "  'sort_order': 8},\n",
      " {'content': 'Start by installing and setting up all the dependencies and '\n",
      "             'requirements:\\n'\n",
      "             '\\n'\n",
      "             '- Google Cloud account\\n'\n",
      "             '- Google Cloud SDK\\n'\n",
      "             '- Python 3 (installed with Anaconda)\\n'\n",
      "             '- Terraform\\n'\n",
      "             '- Git\\n'\n",
      "             '\\n'\n",
      "             'Look over the prerequisites and syllabus to see if you are '\n",
      "             'comfortable with these subjects.',\n",
      "  'filename': 'faq-main/_questions/data-engineering-zoomcamp/general/005_33fc260cd8_course-what-can-i-do-before-the-course-starts.md',\n",
      "  'id': '33fc260cd8',\n",
      "  'question': 'Course: What can I do before the course starts?',\n",
      "  'sort_order': 5}]\n"
     ]
    }
   ],
   "source": [
    "result = text_search(**arguments)\n",
    "\n",
    "pprint(result)"
   ]
  },
  {
   "cell_type": "code",
   "execution_count": 59,
   "id": "32ca6af7",
   "metadata": {},
   "outputs": [
    {
     "name": "stdout",
     "output_type": "stream",
     "text": [
      "{'content': '[{\"id\": \"3f1424af17\", \"question\": \"Course: Can I still join the '\n",
      "            'course after the start date?\", \"sort_order\": 3, \"content\": \"Yes, '\n",
      "            \"even if you don't register, you're still eligible to submit the \"\n",
      "            'homework.\\\\n\\\\nBe aware, however, that there will be deadlines '\n",
      "            \"for turning in homeworks and the final projects. So don't leave \"\n",
      "            'everything for the last minute.\", \"filename\": '\n",
      "            '\"faq-main/_questions/data-engineering-zoomcamp/general/003_3f1424af17_course-can-i-still-join-the-course-after-the-start.md\"}, '\n",
      "            '{\"id\": \"9e508f2212\", \"question\": \"Course: When does the course '\n",
      "            'start?\", \"sort_order\": 1, \"content\": \"The next cohort starts '\n",
      "            'January 13th, 2025. More info at '\n",
      "            '[DTC](https://datatalks.club/blog/guide-to-free-online-courses-at-datatalks-club.html).\\\\n\\\\n- '\n",
      "            'Register before the course starts using this '\n",
      "            '[link](https://airtable.com/shr6oVXeQvSI5HuWD).\\\\n- Join the '\n",
      "            '[course Telegram channel with '\n",
      "            'announcements](https://t.me/dezoomcamp).\\\\n- Don\\\\u2019t forget '\n",
      "            'to register in DataTalks.Club\\'s Slack and join the channel.\", '\n",
      "            '\"filename\": '\n",
      "            '\"faq-main/_questions/data-engineering-zoomcamp/general/001_9e508f2212_course-when-does-the-course-start.md\"}, '\n",
      "            '{\"id\": \"bfafa427b3\", \"question\": \"Course: What are the '\n",
      "            'prerequisites for this course?\", \"sort_order\": 2, \"content\": \"To '\n",
      "            'get the most out of this course, you should have:\\\\n\\\\n- Basic '\n",
      "            'coding experience\\\\n- Familiarity with SQL\\\\n- Experience with '\n",
      "            'Python (helpful but not required)\\\\n\\\\nNo prior data engineering '\n",
      "            'experience is necessary. See [Readme on '\n",
      "            'GitHub](https://github.com/DataTalksClub/data-engineering-zoomcamp/blob/main/README.md#prerequisites).\", '\n",
      "            '\"filename\": '\n",
      "            '\"faq-main/_questions/data-engineering-zoomcamp/general/002_bfafa427b3_course-what-are-the-prerequisites-for-this-course.md\"}, '\n",
      "            '{\"id\": \"068529125b\", \"question\": \"Course - Can I follow the '\n",
      "            'course after it finishes?\", \"sort_order\": 8, \"content\": \"Yes, we '\n",
      "            'will keep all the materials available, so you can follow the '\n",
      "            'course at your own pace after it finishes.\\\\n\\\\nYou can also '\n",
      "            'continue reviewing the homeworks and prepare for the next cohort. '\n",
      "            'You can also start working on your final capstone project.\", '\n",
      "            '\"filename\": '\n",
      "            '\"faq-main/_questions/data-engineering-zoomcamp/general/008_068529125b_course-can-i-follow-the-course-after-it-finishes.md\"}, '\n",
      "            '{\"id\": \"33fc260cd8\", \"question\": \"Course: What can I do before '\n",
      "            'the course starts?\", \"sort_order\": 5, \"content\": \"Start by '\n",
      "            'installing and setting up all the dependencies and '\n",
      "            'requirements:\\\\n\\\\n- Google Cloud account\\\\n- Google Cloud '\n",
      "            'SDK\\\\n- Python 3 (installed with Anaconda)\\\\n- Terraform\\\\n- '\n",
      "            'Git\\\\n\\\\nLook over the prerequisites and syllabus to see if you '\n",
      "            'are comfortable with these subjects.\", \"filename\": '\n",
      "            '\"faq-main/_questions/data-engineering-zoomcamp/general/005_33fc260cd8_course-what-can-i-do-before-the-course-starts.md\"}]',\n",
      " 'name': 'text_search',\n",
      " 'role': 'tool',\n",
      " 'tool_call_id': 'fc_06c903e3-6fb2-4235-8134-169675cda982'}\n"
     ]
    }
   ],
   "source": [
    "tool_call_output = {\n",
    "    \"tool_call_id\": tool_call.id,\n",
    "    \"role\": \"tool\",\n",
    "    \"name\": tool_call.function.name,\n",
    "    \"content\": json.dumps(result), \n",
    "}\n",
    "\n",
    "pprint(tool_call_output)"
   ]
  },
  {
   "cell_type": "code",
   "execution_count": 60,
   "id": "c872322b",
   "metadata": {},
   "outputs": [
    {
     "name": "stdout",
     "output_type": "stream",
     "text": [
      "Absolutely! You can join a cohort even after it has officially started.\n",
      "\n",
      "### What that means\n",
      "- **You’ll still get access to all the lectures, materials, and assignments** – the course runs continuously, so you can start learning at any time.\n",
      "- **Homework and project deadlines stay the same** – you just need to keep up with the schedule. Don’t wait until the last minute; the course timeline is designed to keep everyone on track.\n",
      "- **Community support is still there** – the Telegram channel, Slack workspace, and community forums stay open to new members, so you’ll never feel left out.\n",
      "\n",
      "### How to get in\n",
      "1. **Register** – use the same registration link as any new cohort:  \n",
      "   [Register here](https://airtable.com/shr6oVXeQvSI5HuWD).  \n",
      "2. **Join the community** –  \n",
      "   - Telegram: [dezoomcamp](https://t.me/dezoomcamp)  \n",
      "   - Slack: add yourself to the DataTalks.Club workspace and join the relevant channel.\n",
      "3. **Set up your environment** – the FAQ “What can I do before the course starts?” lists all the prerequisites and setup steps (Google Cloud, Python, Terraform, etc.).\n",
      "\n",
      "### When does the next cohort start?\n",
      "- The upcoming cohort begins on **January 13, 2025**.  \n",
      "  (If you’re joining after that date, you’ll still get the same curriculum and deadlines as the January cohort.)\n",
      "\n",
      "Feel free to ask if you need help setting up your environment or figuring out the first steps. We’re excited to have you on board!\n"
     ]
    }
   ],
   "source": [
    "chat_messages.append(response_message)\n",
    "chat_messages.append(tool_call_output)\n",
    "\n",
    "response = groq_client.chat.completions.create(\n",
    "    model='openai/gpt-oss-20b',\n",
    "    messages=chat_messages,\n",
    "    tools=[text_search_tool]\n",
    ")\n",
    "\n",
    "print(response.choices[0].message.content)"
   ]
  },
  {
   "cell_type": "markdown",
   "id": "1875b223",
   "metadata": {},
   "source": [
    "### 3. System Prompt: Instructions\n",
    "\n",
    "We have two things here:\n",
    "\n",
    "- `system_prompt` contains instructions for the LLM\n",
    "- `question` (\"user prompt\") is the actual question or task\n",
    "\n",
    "The system prompt is very important: it influences how the agent behaves. This is how we can control what the agent does and how it responds to user questions.\n",
    "\n",
    "Usually, the more complete the instructions in the system prompt are, the better the results.\n"
   ]
  },
  {
   "cell_type": "code",
   "execution_count": 63,
   "id": "4c079803",
   "metadata": {},
   "outputs": [],
   "source": [
    "system_prompt = \"\"\"\n",
    "You are a helpful assistant for a course. \n",
    "\n",
    "Use the search tool to find relevant information from the course materials before answering questions.\n",
    "\n",
    "If you can find specific information through search, use it to provide accurate answers.\n",
    "If the search doesn't return relevant results, let the user know and provide general guidance.\n",
    "\"\"\"\n"
   ]
  },
  {
   "cell_type": "code",
   "execution_count": 65,
   "id": "362237d1",
   "metadata": {},
   "outputs": [],
   "source": [
    "# # Agent to make multiple search queries\n",
    "# system_prompt = \"\"\"\n",
    "# You are a helpful assistant for a course. \n",
    "\n",
    "# Always search for relevant information before answering. \n",
    "# If the first search doesn't give you enough information, try different search terms.\n",
    "\n",
    "# Make multiple searches if needed to provide comprehensive answers.\n",
    "# \"\"\"\n"
   ]
  },
  {
   "cell_type": "markdown",
   "id": "8f3ee96c",
   "metadata": {},
   "source": [
    "### 4. Pydantic AI\n",
    "\n",
    "Working with function calls can get tricky — you have to decide which function to call, handle the inputs, send results back to the LLM, and manage follow-up tasks. It’s easy to slip up in that process.\n",
    "\n",
    "To simplify this, we’ll use a library designed for agentic workflows. There are several options, like `OpenAI’s Agents SDK`, `LangChain`, and `Pydantic AI`.\n",
    "\n",
    "For this example, we’ll go with Pydantic AI because its API is straightforward and well-documented."
   ]
  },
  {
   "cell_type": "code",
   "execution_count": 66,
   "id": "6e73fdf5",
   "metadata": {},
   "outputs": [],
   "source": [
    "from typing import List, Any\n",
    "\n",
    "def text_search(query: str) -> List[Any]:\n",
    "    \"\"\"\n",
    "    Perform a text-based search on the FAQ index.\n",
    "\n",
    "    Args:\n",
    "        query (str): The search query string.\n",
    "\n",
    "    Returns:\n",
    "        List[Any]: A list of up to 5 search results returned by the FAQ index.\n",
    "    \"\"\"\n",
    "    return faq_index.search(query, num_results=5)"
   ]
  },
  {
   "cell_type": "code",
   "execution_count": 69,
   "id": "cf9dee77",
   "metadata": {},
   "outputs": [],
   "source": [
    "from pydantic_ai import Agent\n",
    "\n",
    "agent = Agent(\n",
    "    name=\"faq_agent\",\n",
    "    instructions=system_prompt,\n",
    "    tools=[text_search],\n",
    "    model='groq:openai/gpt-oss-20b', # use Groq inference\n",
    ")"
   ]
  },
  {
   "cell_type": "code",
   "execution_count": 70,
   "id": "df78b666",
   "metadata": {},
   "outputs": [],
   "source": [
    "question = \"I just discovered the course, can I join now?\"\n",
    "\n",
    "result = await agent.run(user_prompt=question)"
   ]
  },
  {
   "cell_type": "code",
   "execution_count": 76,
   "id": "df05276d",
   "metadata": {},
   "outputs": [
    {
     "name": "stdout",
     "output_type": "stream",
     "text": [
      "Absolutely! You can still sign up—just make sure you register **before** the cohort actually starts.\n",
      "\n",
      "Here’s what you need to do:\n",
      "\n",
      "1. **Register**  \n",
      "   Use the registration form linked in the FAQ:  \n",
      "   https://airtable.com/shr6oVXeQvSI5HuWD  \n",
      "\n",
      "2. **Get the course started**  \n",
      "   * Join the official course Telegram channel for announcements:  \n",
      "     https://t.me/dezoomcamp  \n",
      "   * Join DataTalks.Club’s Slack workspace and hop into the appropriate channel (you’ll find the invite link after you register).  \n",
      "\n",
      "3. **What to expect**  \n",
      "   * The next cohort begins **January 13 , 2025** (you can check the exact date in the FAQ).  \n",
      "   * Even if you sign up after the start date, you’re still eligible to submit all homework assignments—just keep an eye on the deadlines so you don’t miss any.  \n",
      "\n",
      "4. **Before you start**  \n",
      "   * Install the required tools (Google Cloud account & SDK, Python 3 via Anaconda, Terraform, Git).  \n",
      "   * Review the prerequisites and syllabus to make sure you’re comfortable with the basics.  \n",
      "     (See the FAQ entry on prerequisites.)\n",
      "\n",
      "If you hit any snags during registration or have other questions, drop a message in the Telegram or Slack channel—there’s a community of peers and instructors ready to help. Happy learning!\n"
     ]
    }
   ],
   "source": [
    "print(result.output)"
   ]
  },
  {
   "cell_type": "code",
   "execution_count": 77,
   "id": "907e85af",
   "metadata": {},
   "outputs": [
    {
     "data": {
      "text/plain": [
       "[ModelRequest(parts=[UserPromptPart(content='I just discovered the course, can I join now?', timestamp=datetime.datetime(2025, 10, 2, 9, 56, 44, 973019, tzinfo=datetime.timezone.utc))], instructions=\"You are a helpful assistant for a course. \\n\\nUse the search tool to find relevant information from the course materials before answering questions.\\n\\nIf you can find specific information through search, use it to provide accurate answers.\\nIf the search doesn't return relevant results, let the user know and provide general guidance.\"),\n",
       " ModelResponse(parts=[ThinkingPart(content='User: \"I just discovered the course, can I join now?\" Likely want to check enrollment period. Need to search.'), ToolCallPart(tool_name='text_search', args='{\"query\":\"enrollment period join now course\"}', tool_call_id='fc_fed211f5-9bf0-4b2f-9c4c-aee3d886f61d')], usage=RequestUsage(input_tokens=239, output_tokens=55), model_name='openai/gpt-oss-20b', timestamp=datetime.datetime(2025, 10, 2, 9, 56, 45, tzinfo=TzInfo(UTC)), provider_name='groq', provider_details={'finish_reason': 'tool_calls'}, provider_response_id='chatcmpl-7806b43b-eed5-4767-a936-6b15c2aea49a', finish_reason='tool_call'),\n",
       " ModelRequest(parts=[ToolReturnPart(tool_name='text_search', content=[{'id': '3f1424af17', 'question': 'Course: Can I still join the course after the start date?', 'sort_order': 3, 'content': \"Yes, even if you don't register, you're still eligible to submit the homework.\\n\\nBe aware, however, that there will be deadlines for turning in homeworks and the final projects. So don't leave everything for the last minute.\", 'filename': 'faq-main/_questions/data-engineering-zoomcamp/general/003_3f1424af17_course-can-i-still-join-the-course-after-the-start.md'}, {'id': '9e508f2212', 'question': 'Course: When does the course start?', 'sort_order': 1, 'content': \"The next cohort starts January 13th, 2025. More info at [DTC](https://datatalks.club/blog/guide-to-free-online-courses-at-datatalks-club.html).\\n\\n- Register before the course starts using this [link](https://airtable.com/shr6oVXeQvSI5HuWD).\\n- Join the [course Telegram channel with announcements](https://t.me/dezoomcamp).\\n- Don’t forget to register in DataTalks.Club's Slack and join the channel.\", 'filename': 'faq-main/_questions/data-engineering-zoomcamp/general/001_9e508f2212_course-when-does-the-course-start.md'}, {'id': 'bfafa427b3', 'question': 'Course: What are the prerequisites for this course?', 'sort_order': 2, 'content': 'To get the most out of this course, you should have:\\n\\n- Basic coding experience\\n- Familiarity with SQL\\n- Experience with Python (helpful but not required)\\n\\nNo prior data engineering experience is necessary. See [Readme on GitHub](https://github.com/DataTalksClub/data-engineering-zoomcamp/blob/main/README.md#prerequisites).', 'filename': 'faq-main/_questions/data-engineering-zoomcamp/general/002_bfafa427b3_course-what-are-the-prerequisites-for-this-course.md'}, {'id': '068529125b', 'question': 'Course - Can I follow the course after it finishes?', 'sort_order': 8, 'content': 'Yes, we will keep all the materials available, so you can follow the course at your own pace after it finishes.\\n\\nYou can also continue reviewing the homeworks and prepare for the next cohort. You can also start working on your final capstone project.', 'filename': 'faq-main/_questions/data-engineering-zoomcamp/general/008_068529125b_course-can-i-follow-the-course-after-it-finishes.md'}, {'id': '33fc260cd8', 'question': 'Course: What can I do before the course starts?', 'sort_order': 5, 'content': 'Start by installing and setting up all the dependencies and requirements:\\n\\n- Google Cloud account\\n- Google Cloud SDK\\n- Python 3 (installed with Anaconda)\\n- Terraform\\n- Git\\n\\nLook over the prerequisites and syllabus to see if you are comfortable with these subjects.', 'filename': 'faq-main/_questions/data-engineering-zoomcamp/general/005_33fc260cd8_course-what-can-i-do-before-the-course-starts.md'}], tool_call_id='fc_fed211f5-9bf0-4b2f-9c4c-aee3d886f61d', timestamp=datetime.datetime(2025, 10, 2, 9, 56, 45, 349145, tzinfo=datetime.timezone.utc))], instructions=\"You are a helpful assistant for a course. \\n\\nUse the search tool to find relevant information from the course materials before answering questions.\\n\\nIf you can find specific information through search, use it to provide accurate answers.\\nIf the search doesn't return relevant results, let the user know and provide general guidance.\"),\n",
       " ModelResponse(parts=[ThinkingPart(content='We found relevant FAQs. The user asks \"I just discovered the course, can I join now?\" Need to answer: Yes, you can register before start date, there might be deadlines, maybe join telegram channel, Slack. Provide info from FAQ.'), TextPart(content='Absolutely! You can still sign up—just make sure you register **before** the cohort actually starts.\\n\\nHere’s what you need to do:\\n\\n1. **Register**  \\n   Use the registration form linked in the FAQ:  \\n   https://airtable.com/shr6oVXeQvSI5HuWD  \\n\\n2. **Get the course started**  \\n   * Join the official course Telegram channel for announcements:  \\n     https://t.me/dezoomcamp  \\n   * Join DataTalks.Club’s Slack workspace and hop into the appropriate channel (you’ll find the invite link after you register).  \\n\\n3. **What to expect**  \\n   * The next cohort begins **January\\u202f13\\u202f,\\u202f2025** (you can check the exact date in the FAQ).  \\n   * Even if you sign up after the start date, you’re still eligible to submit all homework assignments—just keep an eye on the deadlines so you don’t miss any.  \\n\\n4. **Before you start**  \\n   * Install the required tools (Google Cloud account & SDK, Python 3 via Anaconda, Terraform, Git).  \\n   * Review the prerequisites and syllabus to make sure you’re comfortable with the basics.  \\n     (See the FAQ entry on prerequisites.)\\n\\nIf you hit any snags during registration or have other questions, drop a message in the Telegram or Slack channel—there’s a community of peers and instructors ready to help. Happy learning!')], usage=RequestUsage(input_tokens=936, output_tokens=355), model_name='openai/gpt-oss-20b', timestamp=datetime.datetime(2025, 10, 2, 9, 56, 45, tzinfo=TzInfo(UTC)), provider_name='groq', provider_details={'finish_reason': 'stop'}, provider_response_id='chatcmpl-f0c539d7-a248-4a11-a33c-c76f1efaa1fc', finish_reason='stop')]"
      ]
     },
     "execution_count": 77,
     "metadata": {},
     "output_type": "execute_result"
    }
   ],
   "source": [
    "result.new_messages()"
   ]
  },
  {
   "cell_type": "code",
   "execution_count": null,
   "id": "51114ff1",
   "metadata": {},
   "outputs": [],
   "source": []
  }
 ],
 "metadata": {
  "kernelspec": {
   "display_name": "ai-agent-crash-course",
   "language": "python",
   "name": "python3"
  },
  "language_info": {
   "codemirror_mode": {
    "name": "ipython",
    "version": 3
   },
   "file_extension": ".py",
   "mimetype": "text/x-python",
   "name": "python",
   "nbconvert_exporter": "python",
   "pygments_lexer": "ipython3",
   "version": "3.12.6"
  }
 },
 "nbformat": 4,
 "nbformat_minor": 5
}
