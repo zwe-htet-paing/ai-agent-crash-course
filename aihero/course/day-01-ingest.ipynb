{
 "cells": [
  {
   "cell_type": "markdown",
   "id": "531172ea",
   "metadata": {},
   "source": [
    "# Day 1: Ingest and Index Your Data\n",
    "- https://docs.google.com/document/d/1ssAeSDpxF-FG8fGsqvAQrTLalVk91f-p9O2nbXiio5U/edit?tab=t.0#heading=h.tjb2t5qu4ajr"
   ]
  },
  {
   "cell_type": "markdown",
   "id": "f9c53c3e",
   "metadata": {},
   "source": [
    "### Frontmatter\n",
    "\n",
    "A library for parsing frontmatter - a popular documentation format commonly used for modern frameworks like Jekyll, Hugo, and Next.js."
   ]
  },
  {
   "cell_type": "code",
   "execution_count": 2,
   "id": "a07c3bc0-0ed8-4ad8-a793-be1c914e6094",
   "metadata": {},
   "outputs": [
    {
     "name": "stdout",
     "output_type": "stream",
     "text": [
      "Title: Getting Started with AI\n",
      "Tags: ['ai', 'machine-learning', 'tutorial']\n",
      "Content: # Getting Started with AI\n",
      "\n",
      "This is the main content of the document written in **Markdown**.\n",
      "\n",
      "You can include code blocks, links, and other formatting here.\n"
     ]
    }
   ],
   "source": [
    "import frontmatter\n",
    "\n",
    "with open('example.md', 'r', encoding='utf-8') as f:\n",
    "    post = frontmatter.load(f)\n",
    "\n",
    "# Access metadata\n",
    "print(\"Title:\", post.metadata['title'])  # \"Getting Started with AI\"\n",
    "print(\"Tags:\", post.metadata['tags'])   # [\"ai\", \"machine-learning\", \"tutorial\"]\n",
    "\n",
    "# Access content\n",
    "print(\"Content:\", post.content)  # The markdown content without frontmatter"
   ]
  },
  {
   "cell_type": "code",
   "execution_count": null,
   "id": "0f628765-bd6c-4769-92a0-fe5b760a91a3",
   "metadata": {},
   "outputs": [],
   "source": []
  },
  {
   "cell_type": "markdown",
   "id": "8b4bbd0d",
   "metadata": {},
   "source": [
    "### Working with Zip Archives\n",
    "\n",
    "Load the zip archives into our Python process memory and extract all the data we need from there.\n",
    "\n",
    "So the plan:\n",
    "- Use requests for downloading the zip archive from GitHub\n",
    "- Open the archive using built-in zipfile and io modules\n",
    "- Iterate over all .md and .mdx files in the repo\n",
    "- Collect the results into a list\n",
    "\n"
   ]
  },
  {
   "cell_type": "code",
   "execution_count": 10,
   "id": "84471d87",
   "metadata": {},
   "outputs": [],
   "source": [
    "import io\n",
    "import zipfile\n",
    "import requests\n",
    "import frontmatter\n",
    "from pprint import pprint"
   ]
  },
  {
   "cell_type": "code",
   "execution_count": 7,
   "id": "5c29c0e9",
   "metadata": {},
   "outputs": [
    {
     "name": "stdout",
     "output_type": "stream",
     "text": [
      "200\n"
     ]
    }
   ],
   "source": [
    "# Download the zip file\n",
    "url = 'https://codeload.github.com/DataTalksClub/faq/zip/refs/heads/main'\n",
    "resp = requests.get(url)\n",
    "print(resp.status_code)"
   ]
  },
  {
   "cell_type": "code",
   "execution_count": 8,
   "id": "fa5bca48",
   "metadata": {},
   "outputs": [],
   "source": [
    "# Process the zip file in memory without saving it to disk\n",
    "repository_data = []\n",
    "\n",
    "# Create a ZipFile object from the downloaded content\n",
    "zf = zipfile.ZipFile(io.BytesIO(resp.content))\n",
    "\n",
    "for file_info in zf.infolist():\n",
    "    filename = file_info.filename.lower()\n",
    "\n",
    "    # Only process markdown files\n",
    "    if not filename.endswith('.md'):\n",
    "        continue\n",
    "\n",
    "    # Read and parse each file\n",
    "    with zf.open(file_info) as f_in:\n",
    "        content = f_in.read()\n",
    "        post = frontmatter.loads(content)\n",
    "        data = post.to_dict()\n",
    "        data['filename'] = filename\n",
    "        repository_data.append(data)\n",
    "\n",
    "zf.close()\n"
   ]
  },
  {
   "cell_type": "code",
   "execution_count": 11,
   "id": "2913a17c",
   "metadata": {},
   "outputs": [
    {
     "name": "stdout",
     "output_type": "stream",
     "text": [
      "{'content': 'The next cohort starts January 13th, 2025. More info at '\n",
      "            '[DTC](https://datatalks.club/blog/guide-to-free-online-courses-at-datatalks-club.html).\\n'\n",
      "            '\\n'\n",
      "            '- Register before the course starts using this '\n",
      "            '[link](https://airtable.com/shr6oVXeQvSI5HuWD).\\n'\n",
      "            '- Join the [course Telegram channel with '\n",
      "            'announcements](https://t.me/dezoomcamp).\\n'\n",
      "            \"- Don’t forget to register in DataTalks.Club's Slack and join the \"\n",
      "            'channel.',\n",
      " 'filename': 'faq-main/_questions/data-engineering-zoomcamp/general/001_9e508f2212_course-when-does-the-course-start.md',\n",
      " 'id': '9e508f2212',\n",
      " 'question': 'Course: When does the course start?',\n",
      " 'sort_order': 1}\n"
     ]
    }
   ],
   "source": [
    "pprint(repository_data[1])"
   ]
  },
  {
   "cell_type": "code",
   "execution_count": 12,
   "id": "a11950d6",
   "metadata": {},
   "outputs": [],
   "source": [
    "import io\n",
    "import zipfile\n",
    "import requests\n",
    "import frontmatter\n",
    "\n",
    "def read_repo_data(repo_owner, repo_name):\n",
    "    \"\"\"\n",
    "    Download and parse all markdown files from a GitHub repository.\n",
    "    \n",
    "    Args:\n",
    "        repo_owner: GitHub username or organization\n",
    "        repo_name: Repository name\n",
    "    \n",
    "    Returns:\n",
    "        List of dictionaries containing file content and metadata\n",
    "    \"\"\"\n",
    "    prefix = 'https://codeload.github.com' \n",
    "    url = f'{prefix}/{repo_owner}/{repo_name}/zip/refs/heads/main'\n",
    "    resp = requests.get(url)\n",
    "    \n",
    "    if resp.status_code != 200:\n",
    "        raise Exception(f\"Failed to download repository: {resp.status_code}\")\n",
    "\n",
    "    repository_data = []\n",
    "    zf = zipfile.ZipFile(io.BytesIO(resp.content))\n",
    "    \n",
    "    for file_info in zf.infolist():\n",
    "        filename = file_info.filename\n",
    "        filename_lower = filename.lower()\n",
    "\n",
    "        if not (filename_lower.endswith('.md') \n",
    "            or filename_lower.endswith('.mdx')):\n",
    "            continue\n",
    "    \n",
    "        try:\n",
    "            with zf.open(file_info) as f_in:\n",
    "                content = f_in.read().decode('utf-8', errors='ignore')\n",
    "                post = frontmatter.loads(content)\n",
    "                data = post.to_dict()\n",
    "                data['filename'] = filename\n",
    "                repository_data.append(data)\n",
    "        except Exception as e:\n",
    "            print(f\"Error processing {filename}: {e}\")\n",
    "            continue\n",
    "    \n",
    "    zf.close()\n",
    "    return repository_data\n"
   ]
  },
  {
   "cell_type": "code",
   "execution_count": 13,
   "id": "cdb2dbb9",
   "metadata": {},
   "outputs": [
    {
     "name": "stdout",
     "output_type": "stream",
     "text": [
      "FAQ documents: 1219\n",
      "Evidently documents: 95\n"
     ]
    }
   ],
   "source": [
    "dtc_faq = read_repo_data('DataTalksClub', 'faq')\n",
    "evidently_docs = read_repo_data('evidentlyai', 'docs')\n",
    "\n",
    "print(f\"FAQ documents: {len(dtc_faq)}\")\n",
    "print(f\"Evidently documents: {len(evidently_docs)}\")"
   ]
  },
  {
   "cell_type": "code",
   "execution_count": null,
   "id": "b071cc02",
   "metadata": {},
   "outputs": [],
   "source": []
  }
 ],
 "metadata": {
  "kernelspec": {
   "display_name": "ai-agent-crash-course",
   "language": "python",
   "name": "python3"
  },
  "language_info": {
   "codemirror_mode": {
    "name": "ipython",
    "version": 3
   },
   "file_extension": ".py",
   "mimetype": "text/x-python",
   "name": "python",
   "nbconvert_exporter": "python",
   "pygments_lexer": "ipython3",
   "version": "3.12.6"
  }
 },
 "nbformat": 4,
 "nbformat_minor": 5
}
